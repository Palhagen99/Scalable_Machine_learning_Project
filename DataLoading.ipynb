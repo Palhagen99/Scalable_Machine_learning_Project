{
 "cells": [
  {
   "metadata": {
    "ExecuteTime": {
     "end_time": "2024-12-16T19:46:58.511358Z",
     "start_time": "2024-12-16T19:46:58.507946Z"
    }
   },
   "cell_type": "code",
   "source": [
    "#Imports\n",
    "\n",
    "import datetime\n",
    "import requests\n",
    "import pandas as pd\n",
    "import hopsworks\n",
    "import datetime\n",
    "from pathlib import Path\n",
    "import json\n",
    "import re\n",
    "import os\n",
    "import warnings\n",
    "warnings.filterwarnings(\"ignore\")"
   ],
   "id": "b950b5fdfafa5c",
   "outputs": [],
   "execution_count": 5
  },
  {
   "metadata": {
    "ExecuteTime": {
     "end_time": "2024-12-16T19:47:15.409086Z",
     "start_time": "2024-12-16T19:47:15.405298Z"
    }
   },
   "cell_type": "code",
   "source": [
    "with open('./hopsworks-api-key.txt', 'r') as file:\n",
    "    os.environ[\"HOPSWORKS_API_KEY\"] = file.read().rstrip()\n",
    "    print(\"API Key is set\")\n",
    "    print(\"First 5 characters of API Key: \", os.environ[\"HOPSWORKS_API_KEY\"][:5])"
   ],
   "id": "4382157b2bddbff0",
   "outputs": [
    {
     "name": "stdout",
     "output_type": "stream",
     "text": [
      "API Key is set\n",
      "First 5 characters of API Key:  gjYGC\n"
     ]
    }
   ],
   "execution_count": 7
  },
  {
   "cell_type": "code",
   "id": "initial_id",
   "metadata": {
    "collapsed": true,
    "ExecuteTime": {
     "end_time": "2024-12-16T19:46:54.773911Z",
     "start_time": "2024-12-16T19:46:54.716557Z"
    }
   },
   "source": [
    "#Connect to Hopsworks to store data in the feature store\n",
    "\n",
    "\n",
    "\n",
    "project = hopsworks.login()\n",
    "fs = project.get_feature_store()"
   ],
   "outputs": [
    {
     "ename": "ModuleNotFoundError",
     "evalue": "Pyarrow package not found. If you want to use Apache Arrow with Hopsworks you can install the corresponding extras via `pip install \"hopsworks[python]\"`. You can also install pyarrow directly in your environment with `pip install pyarrow`. You will need to restart your kernel if applicable.",
     "output_type": "error",
     "traceback": [
      "\u001B[0;31m---------------------------------------------------------------------------\u001B[0m",
      "\u001B[0;31mModuleNotFoundError\u001B[0m                       Traceback (most recent call last)",
      "Cell \u001B[0;32mIn[4], line 5\u001B[0m\n\u001B[1;32m      1\u001B[0m \u001B[38;5;66;03m#Connect to Hopsworks to store data in the feature store\u001B[39;00m\n\u001B[0;32m----> 5\u001B[0m project \u001B[38;5;241m=\u001B[39m \u001B[43mhopsworks\u001B[49m\u001B[38;5;241;43m.\u001B[39;49m\u001B[43mlogin\u001B[49m\u001B[43m(\u001B[49m\u001B[43m)\u001B[49m\n\u001B[1;32m      6\u001B[0m fs \u001B[38;5;241m=\u001B[39m project\u001B[38;5;241m.\u001B[39mget_feature_store()\n",
      "File \u001B[0;32m~/.virtualenvs/Scalable_Machine_learning_Project/lib/python3.12/site-packages/hopsworks/__init__.py:143\u001B[0m, in \u001B[0;36mlogin\u001B[0;34m(host, port, project, api_key_value, api_key_file, hostname_verification, trust_store_path, engine)\u001B[0m\n\u001B[1;32m    140\u001B[0m \u001B[38;5;28;01mglobal\u001B[39;00m _connected_project\n\u001B[1;32m    142\u001B[0m \u001B[38;5;66;03m# If already logged in, should reset connection and follow login procedure as Connection may no longer be valid\u001B[39;00m\n\u001B[0;32m--> 143\u001B[0m \u001B[43mlogout\u001B[49m\u001B[43m(\u001B[49m\u001B[43m)\u001B[49m\n\u001B[1;32m    145\u001B[0m \u001B[38;5;28;01mglobal\u001B[39;00m _hw_connection\n\u001B[1;32m    147\u001B[0m \u001B[38;5;66;03m# If inside hopsworks, just return the current project for now\u001B[39;00m\n",
      "File \u001B[0;32m~/.virtualenvs/Scalable_Machine_learning_Project/lib/python3.12/site-packages/hopsworks/__init__.py:380\u001B[0m, in \u001B[0;36mlogout\u001B[0;34m()\u001B[0m\n\u001B[1;32m    377\u001B[0m \u001B[38;5;28;01mglobal\u001B[39;00m _secrets_api\n\u001B[1;32m    379\u001B[0m \u001B[38;5;28;01mif\u001B[39;00m _is_connection_active():\n\u001B[0;32m--> 380\u001B[0m     \u001B[43m_hw_connection\u001B[49m\u001B[38;5;241;43m.\u001B[39;49m\u001B[43mclose\u001B[49m\u001B[43m(\u001B[49m\u001B[43m)\u001B[49m\n\u001B[1;32m    382\u001B[0m client\u001B[38;5;241m.\u001B[39mstop()\n\u001B[1;32m    383\u001B[0m _project_api \u001B[38;5;241m=\u001B[39m \u001B[38;5;28;01mNone\u001B[39;00m\n",
      "File \u001B[0;32m~/.virtualenvs/Scalable_Machine_learning_Project/lib/python3.12/site-packages/hopsworks_common/connection.py:457\u001B[0m, in \u001B[0;36mConnection.close\u001B[0;34m(self)\u001B[0m\n\u001B[1;32m    455\u001B[0m     OpenSearchClientSingleton()\u001B[38;5;241m.\u001B[39mclose()\n\u001B[1;32m    456\u001B[0m client\u001B[38;5;241m.\u001B[39mstop()\n\u001B[0;32m--> 457\u001B[0m \u001B[43mengine\u001B[49m\u001B[38;5;241;43m.\u001B[39;49m\u001B[43mstop\u001B[49m\u001B[43m(\u001B[49m\u001B[43m)\u001B[49m\n\u001B[1;32m    458\u001B[0m \u001B[38;5;28mself\u001B[39m\u001B[38;5;241m.\u001B[39m_feature_store_api \u001B[38;5;241m=\u001B[39m \u001B[38;5;28;01mNone\u001B[39;00m\n\u001B[1;32m    459\u001B[0m \u001B[38;5;28mself\u001B[39m\u001B[38;5;241m.\u001B[39m_connected \u001B[38;5;241m=\u001B[39m \u001B[38;5;28;01mFalse\u001B[39;00m\n",
      "File \u001B[0;32m~/.virtualenvs/Scalable_Machine_learning_Project/lib/python3.12/site-packages/hsfs/engine/__init__.py:85\u001B[0m, in \u001B[0;36mstop\u001B[0;34m()\u001B[0m\n\u001B[1;32m     83\u001B[0m \u001B[38;5;28;01mdef\u001B[39;00m \u001B[38;5;21mstop\u001B[39m() \u001B[38;5;241m-\u001B[39m\u001B[38;5;241m>\u001B[39m \u001B[38;5;28;01mNone\u001B[39;00m:\n\u001B[1;32m     84\u001B[0m     \u001B[38;5;28;01mglobal\u001B[39;00m _engine\n\u001B[0;32m---> 85\u001B[0m     \u001B[38;5;28;01mfrom\u001B[39;00m \u001B[38;5;21;01mhsfs\u001B[39;00m\u001B[38;5;21;01m.\u001B[39;00m\u001B[38;5;21;01mcore\u001B[39;00m \u001B[38;5;28;01mimport\u001B[39;00m arrow_flight_client\n\u001B[1;32m     87\u001B[0m     _engine \u001B[38;5;241m=\u001B[39m \u001B[38;5;28;01mNone\u001B[39;00m\n\u001B[1;32m     88\u001B[0m     arrow_flight_client\u001B[38;5;241m.\u001B[39mclose()\n",
      "File \u001B[0;32m~/.virtualenvs/Scalable_Machine_learning_Project/lib/python3.12/site-packages/hsfs/core/arrow_flight_client.py:30\u001B[0m\n\u001B[1;32m     26\u001B[0m \u001B[38;5;28;01mfrom\u001B[39;00m \u001B[38;5;21;01mhopsworks_common\u001B[39;00m\u001B[38;5;21;01m.\u001B[39;00m\u001B[38;5;21;01mcore\u001B[39;00m\u001B[38;5;21;01m.\u001B[39;00m\u001B[38;5;21;01mconstants\u001B[39;00m \u001B[38;5;28;01mimport\u001B[39;00m HAS_PYARROW, pyarrow_not_installed_message\n\u001B[1;32m     29\u001B[0m \u001B[38;5;28;01mif\u001B[39;00m \u001B[38;5;129;01mnot\u001B[39;00m HAS_PYARROW:\n\u001B[0;32m---> 30\u001B[0m     \u001B[38;5;28;01mraise\u001B[39;00m \u001B[38;5;167;01mModuleNotFoundError\u001B[39;00m(pyarrow_not_installed_message)\n\u001B[1;32m     32\u001B[0m \u001B[38;5;28;01mimport\u001B[39;00m \u001B[38;5;21;01mpyarrow\u001B[39;00m\n\u001B[1;32m     33\u001B[0m \u001B[38;5;28;01mimport\u001B[39;00m \u001B[38;5;21;01mpyarrow\u001B[39;00m\u001B[38;5;21;01m.\u001B[39;00m\u001B[38;5;21;01m_flight\u001B[39;00m\n",
      "\u001B[0;31mModuleNotFoundError\u001B[0m: Pyarrow package not found. If you want to use Apache Arrow with Hopsworks you can install the corresponding extras via `pip install \"hopsworks[python]\"`. You can also install pyarrow directly in your environment with `pip install pyarrow`. You will need to restart your kernel if applicable."
     ]
    }
   ],
   "execution_count": 4
  },
  {
   "metadata": {},
   "cell_type": "code",
   "outputs": [],
   "execution_count": null,
   "source": "",
   "id": "19fc6667d83d86f1"
  }
 ],
 "metadata": {
  "kernelspec": {
   "display_name": "Python 3",
   "language": "python",
   "name": "python3"
  },
  "language_info": {
   "codemirror_mode": {
    "name": "ipython",
    "version": 2
   },
   "file_extension": ".py",
   "mimetype": "text/x-python",
   "name": "python",
   "nbconvert_exporter": "python",
   "pygments_lexer": "ipython2",
   "version": "2.7.6"
  }
 },
 "nbformat": 4,
 "nbformat_minor": 5
}
