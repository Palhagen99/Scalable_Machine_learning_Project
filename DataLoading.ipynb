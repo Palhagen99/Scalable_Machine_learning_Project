{
 "cells": [
  {
   "metadata": {
    "ExecuteTime": {
     "end_time": "2024-12-17T18:40:56.781145Z",
     "start_time": "2024-12-17T18:40:54.994858Z"
    }
   },
   "cell_type": "code",
   "source": [
    "#Imports\n",
    "\n",
    "import datetime\n",
    "import requests\n",
    "import pandas as pd\n",
    "import hopsworks\n",
    "import datetime\n",
    "from pathlib import Path\n",
    "import json\n",
    "import re\n",
    "import os\n",
    "import warnings\n",
    "warnings.filterwarnings(\"ignore\")"
   ],
   "id": "b950b5fdfafa5c",
   "outputs": [],
   "execution_count": 1
  },
  {
   "metadata": {
    "ExecuteTime": {
     "end_time": "2024-12-17T19:29:37.593930Z",
     "start_time": "2024-12-17T19:29:37.588218Z"
    }
   },
   "cell_type": "code",
   "source": [
    "with open('./project_api_key.txt', 'r') as file:\n",
    "    os.environ[\"HOPSWORKS_API_KEY\"] = file.read().rstrip()\n",
    "    print(\"API Key is set\")\n",
    "    print(\"First 5 characters of API Key: \", os.environ[\"HOPSWORKS_API_KEY\"][:5])"
   ],
   "id": "4382157b2bddbff0",
   "outputs": [
    {
     "name": "stdout",
     "output_type": "stream",
     "text": [
      "API Key is set\n",
      "First 5 characters of API Key:  pwWjy\n"
     ]
    }
   ],
   "execution_count": 15
  },
  {
   "cell_type": "code",
   "id": "initial_id",
   "metadata": {
    "collapsed": true,
    "ExecuteTime": {
     "end_time": "2024-12-17T19:29:42.692823Z",
     "start_time": "2024-12-17T19:29:40.238221Z"
    }
   },
   "source": [
    "#Connect to Hopsworks to store data in the feature store\n",
    "project = hopsworks.login()\n",
    "\n",
    "project = hopsworks.get_current_project()"
   ],
   "outputs": [
    {
     "name": "stdout",
     "output_type": "stream",
     "text": [
      "2024-12-17 20:29:40,238 INFO: Closing external client and cleaning up certificates.\n",
      "Connection closed.\n",
      "2024-12-17 20:29:40,243 INFO: Initializing external client\n",
      "2024-12-17 20:29:40,243 INFO: Base URL: https://c.app.hopsworks.ai:443\n",
      "2024-12-17 20:29:41,488 INFO: Python Engine initialized.\n",
      "\n",
      "Logged in to project, explore it here https://c.app.hopsworks.ai:443/p/1168540\n"
     ]
    }
   ],
   "execution_count": 16
  },
  {
   "metadata": {
    "ExecuteTime": {
     "end_time": "2024-12-17T19:29:55.980136Z",
     "start_time": "2024-12-17T19:29:55.976991Z"
    }
   },
   "cell_type": "code",
   "source": [
    "#Test if connection is working\n",
    "print(\"Project name: \", project.name)\n",
    "print(\"Project id: \", project.id)"
   ],
   "id": "2a0b0e3e59e30a9f",
   "outputs": [
    {
     "name": "stdout",
     "output_type": "stream",
     "text": [
      "Project name:  palhagen\n",
      "Project id:  1168540\n"
     ]
    }
   ],
   "execution_count": 17
  },
  {
   "metadata": {
    "ExecuteTime": {
     "end_time": "2024-12-17T19:29:58.844554Z",
     "start_time": "2024-12-17T19:29:58.564003Z"
    }
   },
   "cell_type": "code",
   "source": [
    "#Try downloadin the data from yfinance for omx30 \n",
    "#This is some of the data that we will use to create features\n",
    "\n",
    "import yfinance as yf\n",
    "import pandas as pd\n",
    "import datetime\n",
    "\n",
    "# Download data from yfinance\n",
    "omx30 = yf.Ticker(\"^OMX\")\n",
    "omx30_data = omx30.history(period=\"max\")\n",
    "omx30_data = omx30_data.reset_index()\n",
    "omx30_data.to_csv(\"omx30_data.csv\")\n"
   ],
   "id": "167f74941954ad71",
   "outputs": [],
   "execution_count": 18
  },
  {
   "metadata": {
    "ExecuteTime": {
     "end_time": "2024-12-17T19:30:05.333805Z",
     "start_time": "2024-12-17T19:30:05.324862Z"
    }
   },
   "cell_type": "code",
   "source": [
    "#Load into a pandas dataframe\n",
    "df = pd.read_csv(\"omx30_data.csv\")\n",
    "#Clean dataframe from unnecessary columns such as Unnamed: 0, Dividends and Stock Splits\n",
    "df = df.drop(columns=['Unnamed: 0', 'Dividends', 'Stock Splits'])\n"
   ],
   "id": "50e21f0d346f2fed",
   "outputs": [],
   "execution_count": 19
  },
  {
   "metadata": {},
   "cell_type": "code",
   "outputs": [],
   "execution_count": null,
   "source": "",
   "id": "1bc91a0fb9f70942"
  },
  {
   "metadata": {
    "ExecuteTime": {
     "end_time": "2024-12-16T22:27:53.289266Z",
     "start_time": "2024-12-16T22:27:53.280316Z"
    }
   },
   "cell_type": "code",
   "source": [
    "#Check dataframe\n",
    "df.head()"
   ],
   "id": "6e86df5986f40cb7",
   "outputs": [
    {
     "data": {
      "text/plain": [
       "                        Date        Open        High         Low       Close  \\\n",
       "0  2008-11-20 00:00:00+01:00  594.119995  594.119995  572.469971  587.710022   \n",
       "1  2008-11-21 00:00:00+01:00  587.710022  594.799988  560.940002  567.609985   \n",
       "2  2008-11-24 00:00:00+01:00  567.609985  629.229980  567.609985  626.460022   \n",
       "3  2008-11-25 00:00:00+01:00  626.460022  644.549988  614.369995  634.020020   \n",
       "4  2008-11-26 00:00:00+01:00  634.020020  638.789978  617.489990  628.859985   \n",
       "\n",
       "      Volume  \n",
       "0  190921000  \n",
       "1  188222800  \n",
       "2  197755700  \n",
       "3  258695400  \n",
       "4  192007800  "
      ],
      "text/html": [
       "<div>\n",
       "<style scoped>\n",
       "    .dataframe tbody tr th:only-of-type {\n",
       "        vertical-align: middle;\n",
       "    }\n",
       "\n",
       "    .dataframe tbody tr th {\n",
       "        vertical-align: top;\n",
       "    }\n",
       "\n",
       "    .dataframe thead th {\n",
       "        text-align: right;\n",
       "    }\n",
       "</style>\n",
       "<table border=\"1\" class=\"dataframe\">\n",
       "  <thead>\n",
       "    <tr style=\"text-align: right;\">\n",
       "      <th></th>\n",
       "      <th>Date</th>\n",
       "      <th>Open</th>\n",
       "      <th>High</th>\n",
       "      <th>Low</th>\n",
       "      <th>Close</th>\n",
       "      <th>Volume</th>\n",
       "    </tr>\n",
       "  </thead>\n",
       "  <tbody>\n",
       "    <tr>\n",
       "      <th>0</th>\n",
       "      <td>2008-11-20 00:00:00+01:00</td>\n",
       "      <td>594.119995</td>\n",
       "      <td>594.119995</td>\n",
       "      <td>572.469971</td>\n",
       "      <td>587.710022</td>\n",
       "      <td>190921000</td>\n",
       "    </tr>\n",
       "    <tr>\n",
       "      <th>1</th>\n",
       "      <td>2008-11-21 00:00:00+01:00</td>\n",
       "      <td>587.710022</td>\n",
       "      <td>594.799988</td>\n",
       "      <td>560.940002</td>\n",
       "      <td>567.609985</td>\n",
       "      <td>188222800</td>\n",
       "    </tr>\n",
       "    <tr>\n",
       "      <th>2</th>\n",
       "      <td>2008-11-24 00:00:00+01:00</td>\n",
       "      <td>567.609985</td>\n",
       "      <td>629.229980</td>\n",
       "      <td>567.609985</td>\n",
       "      <td>626.460022</td>\n",
       "      <td>197755700</td>\n",
       "    </tr>\n",
       "    <tr>\n",
       "      <th>3</th>\n",
       "      <td>2008-11-25 00:00:00+01:00</td>\n",
       "      <td>626.460022</td>\n",
       "      <td>644.549988</td>\n",
       "      <td>614.369995</td>\n",
       "      <td>634.020020</td>\n",
       "      <td>258695400</td>\n",
       "    </tr>\n",
       "    <tr>\n",
       "      <th>4</th>\n",
       "      <td>2008-11-26 00:00:00+01:00</td>\n",
       "      <td>634.020020</td>\n",
       "      <td>638.789978</td>\n",
       "      <td>617.489990</td>\n",
       "      <td>628.859985</td>\n",
       "      <td>192007800</td>\n",
       "    </tr>\n",
       "  </tbody>\n",
       "</table>\n",
       "</div>"
      ]
     },
     "execution_count": 6,
     "metadata": {},
     "output_type": "execute_result"
    }
   ],
   "execution_count": 6
  },
  {
   "metadata": {
    "ExecuteTime": {
     "end_time": "2024-12-17T19:30:20.913440Z",
     "start_time": "2024-12-17T19:30:09.143456Z"
    }
   },
   "cell_type": "code",
   "source": [
    "fs = project.get_feature_store() \n",
    "#Try uploding the data to the feature store\n",
    " #THe data is formulated as: Date,Open,High,Low,Close,Volume,Dividends,Stock Splits\n",
    "Omx30_fg = fs.get_or_create_feature_group(\n",
    "    name=\"omx30\", \n",
    "    description=\"Omx30 data for the last 20 years\",\n",
    "    version=1,\n",
    "    primary_key=['Date'], \n",
    "    event_time='Date'\n",
    ")\n",
    "\n",
    "#Upload the data to the feature store. \n",
    "#Update data if it already exists\n",
    "Omx30_fg.insert(df)"
   ],
   "id": "ec66727203191717",
   "outputs": [
    {
     "name": "stderr",
     "output_type": "stream",
     "text": [
      "Uploading Dataframe: 100.00% |██████████| Rows 4036/4036 | Elapsed Time: 00:01 | Remaining Time: 00:00\n"
     ]
    },
    {
     "name": "stdout",
     "output_type": "stream",
     "text": [
      "Launching job: omx30_1_offline_fg_materialization\n",
      "Job started successfully, you can follow the progress at \n",
      "https://c.app.hopsworks.ai:443/p/1168540/jobs/named/omx30_1_offline_fg_materialization/executions\n"
     ]
    },
    {
     "data": {
      "text/plain": [
       "(Job('omx30_1_offline_fg_materialization', 'SPARK'), None)"
      ]
     },
     "execution_count": 20,
     "metadata": {},
     "output_type": "execute_result"
    }
   ],
   "execution_count": 20
  },
  {
   "metadata": {
    "ExecuteTime": {
     "end_time": "2024-12-19T13:27:45.290141Z",
     "start_time": "2024-12-19T13:27:44.609990Z"
    }
   },
   "cell_type": "code",
   "source": [
    "#test of fetching news data from the news api\n",
    "from pygooglenews import GoogleNews\n",
    "import json\n",
    "import time \n",
    "\n",
    "gn = GoogleNews()\n",
    "search = gn.search('Sweden finance', when='7d') \n",
    "news_data = search['entries']\n",
    "\n",
    "news_data = pd.DataFrame(news_data)\n",
    "news_data.to_csv(\"news_data.csv\")\n",
    "\n",
    "#we want to take only the headlines and the daata from the data\n",
    "news_titles = news_data['title']\n",
    "\n",
    "#Save titles to a file\n",
    "news_titles.to_csv(\"news_titles.csv\")\n",
    "\n",
    "news_data.head()"
   ],
   "id": "1ab211015e509c01",
   "outputs": [
    {
     "data": {
      "text/plain": [
       "                                               title  \\\n",
       "0  Sweden's north frets over financial risks as g...   \n",
       "1  Klarna Tells Employees It Will Start Drug Test...   \n",
       "2  Sweden's finance ministry cuts economic growth...   \n",
       "3  Sweden open to power cable project if Germany ...   \n",
       "4  Swedish Government Cuts Growth View as Economi...   \n",
       "\n",
       "                                        title_detail  \\\n",
       "0  {'type': 'text/plain', 'language': None, 'base...   \n",
       "1  {'type': 'text/plain', 'language': None, 'base...   \n",
       "2  {'type': 'text/plain', 'language': None, 'base...   \n",
       "3  {'type': 'text/plain', 'language': None, 'base...   \n",
       "4  {'type': 'text/plain', 'language': None, 'base...   \n",
       "\n",
       "                                               links  \\\n",
       "0  [{'rel': 'alternate', 'type': 'text/html', 'hr...   \n",
       "1  [{'rel': 'alternate', 'type': 'text/html', 'hr...   \n",
       "2  [{'rel': 'alternate', 'type': 'text/html', 'hr...   \n",
       "3  [{'rel': 'alternate', 'type': 'text/html', 'hr...   \n",
       "4  [{'rel': 'alternate', 'type': 'text/html', 'hr...   \n",
       "\n",
       "                                                link  \\\n",
       "0  https://news.google.com/rss/articles/CBMisAFBV...   \n",
       "1  https://news.google.com/rss/articles/CBMijwFBV...   \n",
       "2  https://news.google.com/rss/articles/CBMiwgFBV...   \n",
       "3  https://news.google.com/rss/articles/CBMicEFVX...   \n",
       "4  https://news.google.com/rss/articles/CBMirwFBV...   \n",
       "\n",
       "                                                  id  guidislink  \\\n",
       "0  CBMisAFBVV95cUxQUnp6Q3JVNllHbkV0VE9RcUhkN0E2cW...       False   \n",
       "1  CBMijwFBVV95cUxNemNOUkdYSS1jMGh2c2VpWHBRRTlxeE...       False   \n",
       "2  CBMiwgFBVV95cUxNMHNCcTJZNDVhYkdQRmpiWjdqY3hsTm...       False   \n",
       "3  CBMicEFVX3lxTE5qRF81VlNkckN4cVJhSU5LN3FmMS1GUT...       False   \n",
       "4  CBMirwFBVV95cUxQRWVlNFB0MGdlSEJ2aGtuSlFLdVl0cT...       False   \n",
       "\n",
       "                       published                       published_parsed  \\\n",
       "0  Wed, 18 Dec 2024 17:27:01 GMT   (2024, 12, 18, 17, 27, 1, 2, 353, 0)   \n",
       "1  Mon, 16 Dec 2024 17:51:00 GMT   (2024, 12, 16, 17, 51, 0, 0, 351, 0)   \n",
       "2  Wed, 18 Dec 2024 11:49:45 GMT  (2024, 12, 18, 11, 49, 45, 2, 353, 0)   \n",
       "3  Tue, 17 Dec 2024 05:01:28 GMT    (2024, 12, 17, 5, 1, 28, 1, 352, 0)   \n",
       "4  Wed, 18 Dec 2024 11:10:05 GMT   (2024, 12, 18, 11, 10, 5, 2, 353, 0)   \n",
       "\n",
       "                                             summary  \\\n",
       "0  <a href=\"https://news.google.com/rss/articles/...   \n",
       "1  <a href=\"https://news.google.com/rss/articles/...   \n",
       "2  <a href=\"https://news.google.com/rss/articles/...   \n",
       "3  <a href=\"https://news.google.com/rss/articles/...   \n",
       "4  <a href=\"https://news.google.com/rss/articles/...   \n",
       "\n",
       "                                      summary_detail  \\\n",
       "0  {'type': 'text/html', 'language': None, 'base'...   \n",
       "1  {'type': 'text/html', 'language': None, 'base'...   \n",
       "2  {'type': 'text/html', 'language': None, 'base'...   \n",
       "3  {'type': 'text/html', 'language': None, 'base'...   \n",
       "4  {'type': 'text/html', 'language': None, 'base'...   \n",
       "\n",
       "                                              source sub_articles  \n",
       "0  {'href': 'https://www.reuters.com', 'title': '...           []  \n",
       "1  {'href': 'https://www.businessinsider.com', 't...           []  \n",
       "2  {'href': 'https://www.investing.com', 'title':...           []  \n",
       "3  {'href': 'https://www.ft.com', 'title': 'Finan...           []  \n",
       "4  {'href': 'https://www.bloomberg.com', 'title':...           []  "
      ],
      "text/html": [
       "<div>\n",
       "<style scoped>\n",
       "    .dataframe tbody tr th:only-of-type {\n",
       "        vertical-align: middle;\n",
       "    }\n",
       "\n",
       "    .dataframe tbody tr th {\n",
       "        vertical-align: top;\n",
       "    }\n",
       "\n",
       "    .dataframe thead th {\n",
       "        text-align: right;\n",
       "    }\n",
       "</style>\n",
       "<table border=\"1\" class=\"dataframe\">\n",
       "  <thead>\n",
       "    <tr style=\"text-align: right;\">\n",
       "      <th></th>\n",
       "      <th>title</th>\n",
       "      <th>title_detail</th>\n",
       "      <th>links</th>\n",
       "      <th>link</th>\n",
       "      <th>id</th>\n",
       "      <th>guidislink</th>\n",
       "      <th>published</th>\n",
       "      <th>published_parsed</th>\n",
       "      <th>summary</th>\n",
       "      <th>summary_detail</th>\n",
       "      <th>source</th>\n",
       "      <th>sub_articles</th>\n",
       "    </tr>\n",
       "  </thead>\n",
       "  <tbody>\n",
       "    <tr>\n",
       "      <th>0</th>\n",
       "      <td>Sweden's north frets over financial risks as g...</td>\n",
       "      <td>{'type': 'text/plain', 'language': None, 'base...</td>\n",
       "      <td>[{'rel': 'alternate', 'type': 'text/html', 'hr...</td>\n",
       "      <td>https://news.google.com/rss/articles/CBMisAFBV...</td>\n",
       "      <td>CBMisAFBVV95cUxQUnp6Q3JVNllHbkV0VE9RcUhkN0E2cW...</td>\n",
       "      <td>False</td>\n",
       "      <td>Wed, 18 Dec 2024 17:27:01 GMT</td>\n",
       "      <td>(2024, 12, 18, 17, 27, 1, 2, 353, 0)</td>\n",
       "      <td>&lt;a href=\"https://news.google.com/rss/articles/...</td>\n",
       "      <td>{'type': 'text/html', 'language': None, 'base'...</td>\n",
       "      <td>{'href': 'https://www.reuters.com', 'title': '...</td>\n",
       "      <td>[]</td>\n",
       "    </tr>\n",
       "    <tr>\n",
       "      <th>1</th>\n",
       "      <td>Klarna Tells Employees It Will Start Drug Test...</td>\n",
       "      <td>{'type': 'text/plain', 'language': None, 'base...</td>\n",
       "      <td>[{'rel': 'alternate', 'type': 'text/html', 'hr...</td>\n",
       "      <td>https://news.google.com/rss/articles/CBMijwFBV...</td>\n",
       "      <td>CBMijwFBVV95cUxNemNOUkdYSS1jMGh2c2VpWHBRRTlxeE...</td>\n",
       "      <td>False</td>\n",
       "      <td>Mon, 16 Dec 2024 17:51:00 GMT</td>\n",
       "      <td>(2024, 12, 16, 17, 51, 0, 0, 351, 0)</td>\n",
       "      <td>&lt;a href=\"https://news.google.com/rss/articles/...</td>\n",
       "      <td>{'type': 'text/html', 'language': None, 'base'...</td>\n",
       "      <td>{'href': 'https://www.businessinsider.com', 't...</td>\n",
       "      <td>[]</td>\n",
       "    </tr>\n",
       "    <tr>\n",
       "      <th>2</th>\n",
       "      <td>Sweden's finance ministry cuts economic growth...</td>\n",
       "      <td>{'type': 'text/plain', 'language': None, 'base...</td>\n",
       "      <td>[{'rel': 'alternate', 'type': 'text/html', 'hr...</td>\n",
       "      <td>https://news.google.com/rss/articles/CBMiwgFBV...</td>\n",
       "      <td>CBMiwgFBVV95cUxNMHNCcTJZNDVhYkdQRmpiWjdqY3hsTm...</td>\n",
       "      <td>False</td>\n",
       "      <td>Wed, 18 Dec 2024 11:49:45 GMT</td>\n",
       "      <td>(2024, 12, 18, 11, 49, 45, 2, 353, 0)</td>\n",
       "      <td>&lt;a href=\"https://news.google.com/rss/articles/...</td>\n",
       "      <td>{'type': 'text/html', 'language': None, 'base'...</td>\n",
       "      <td>{'href': 'https://www.investing.com', 'title':...</td>\n",
       "      <td>[]</td>\n",
       "    </tr>\n",
       "    <tr>\n",
       "      <th>3</th>\n",
       "      <td>Sweden open to power cable project if Germany ...</td>\n",
       "      <td>{'type': 'text/plain', 'language': None, 'base...</td>\n",
       "      <td>[{'rel': 'alternate', 'type': 'text/html', 'hr...</td>\n",
       "      <td>https://news.google.com/rss/articles/CBMicEFVX...</td>\n",
       "      <td>CBMicEFVX3lxTE5qRF81VlNkckN4cVJhSU5LN3FmMS1GUT...</td>\n",
       "      <td>False</td>\n",
       "      <td>Tue, 17 Dec 2024 05:01:28 GMT</td>\n",
       "      <td>(2024, 12, 17, 5, 1, 28, 1, 352, 0)</td>\n",
       "      <td>&lt;a href=\"https://news.google.com/rss/articles/...</td>\n",
       "      <td>{'type': 'text/html', 'language': None, 'base'...</td>\n",
       "      <td>{'href': 'https://www.ft.com', 'title': 'Finan...</td>\n",
       "      <td>[]</td>\n",
       "    </tr>\n",
       "    <tr>\n",
       "      <th>4</th>\n",
       "      <td>Swedish Government Cuts Growth View as Economi...</td>\n",
       "      <td>{'type': 'text/plain', 'language': None, 'base...</td>\n",
       "      <td>[{'rel': 'alternate', 'type': 'text/html', 'hr...</td>\n",
       "      <td>https://news.google.com/rss/articles/CBMirwFBV...</td>\n",
       "      <td>CBMirwFBVV95cUxQRWVlNFB0MGdlSEJ2aGtuSlFLdVl0cT...</td>\n",
       "      <td>False</td>\n",
       "      <td>Wed, 18 Dec 2024 11:10:05 GMT</td>\n",
       "      <td>(2024, 12, 18, 11, 10, 5, 2, 353, 0)</td>\n",
       "      <td>&lt;a href=\"https://news.google.com/rss/articles/...</td>\n",
       "      <td>{'type': 'text/html', 'language': None, 'base'...</td>\n",
       "      <td>{'href': 'https://www.bloomberg.com', 'title':...</td>\n",
       "      <td>[]</td>\n",
       "    </tr>\n",
       "  </tbody>\n",
       "</table>\n",
       "</div>"
      ]
     },
     "execution_count": 30,
     "metadata": {},
     "output_type": "execute_result"
    }
   ],
   "execution_count": 30
  },
  {
   "metadata": {},
   "cell_type": "code",
   "outputs": [],
   "execution_count": null,
   "source": "",
   "id": "9225514ceb4b2a2a"
  }
 ],
 "metadata": {
  "kernelspec": {
   "display_name": "Python 3",
   "language": "python",
   "name": "python3"
  },
  "language_info": {
   "codemirror_mode": {
    "name": "ipython",
    "version": 2
   },
   "file_extension": ".py",
   "mimetype": "text/x-python",
   "name": "python",
   "nbconvert_exporter": "python",
   "pygments_lexer": "ipython2",
   "version": "2.7.6"
  }
 },
 "nbformat": 4,
 "nbformat_minor": 5
}
