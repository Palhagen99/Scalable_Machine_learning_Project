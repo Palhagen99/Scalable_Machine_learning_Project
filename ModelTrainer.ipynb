{
 "cells": [
  {
   "metadata": {},
   "cell_type": "markdown",
   "source": [
    "Main idea: Fetch multiple datasets of indexes and stocks correlated news to that index. (News only go back one year)\n",
    "Then we train the model on the multiple datasets and test it on the last dataset.\n",
    "\n",
    "1. Fetch the stock data from Yahoo Finance\n",
    "2. Fetch the news data from NewsAPI\n",
    "3. Preprocess stock data. We will give the model open, close, high, low\n",
    "4. Preprocess news data to sentiment labels. then backfill the sentiment labels so that there are no missing values\n",
    "5. Merge the stock data and news data\n",
    "6. Train the model on the multiple datasets\n",
    "7. Test the model on the last dataset\n",
    "8. Evaluate the model\n",
    "9. Save the model\n",
    "10. Make predictions"
   ],
   "id": "51fb259759d3717c"
  },
  {
   "metadata": {},
   "cell_type": "code",
   "outputs": [],
   "execution_count": null,
   "source": "",
   "id": "8416be69afa9a2ee"
  },
  {
   "metadata": {
    "ExecuteTime": {
     "end_time": "2024-12-19T13:01:51.014459Z",
     "start_time": "2024-12-19T13:01:49.760742Z"
    }
   },
   "cell_type": "code",
   "source": [
    "#Data fetching \n",
    "import pandas as pd\n",
    "import numpy as np\n",
    "import matplotlib.pyplot as plt\n",
    "import yfinance as yf\n",
    "from datetime import datetime\n",
    "from pygooglenews import GoogleNews"
   ],
   "id": "a1ca616477abb63d",
   "outputs": [],
   "execution_count": 1
  },
  {
   "metadata": {
    "ExecuteTime": {
     "end_time": "2024-12-19T13:09:22.493291Z",
     "start_time": "2024-12-19T13:09:22.489848Z"
    }
   },
   "cell_type": "code",
   "source": [
    "List_of_indexes = ['^GSPC', '^DJI', '^IXIC', '^RUT', '^FTSE', '^N225', '^HSI', '^GDAXI', '^OMX']\n",
    "time_period = '365d'"
   ],
   "id": "d7591eef997267b5",
   "outputs": [],
   "execution_count": 8
  },
  {
   "metadata": {
    "ExecuteTime": {
     "end_time": "2024-12-19T13:09:23.919970Z",
     "start_time": "2024-12-19T13:09:23.698509Z"
    }
   },
   "cell_type": "code",
   "source": [
    "#Fetch stock data\n",
    "stock_data = {}\n",
    "for index in List_of_indexes:\n",
    "    stock_data[index] = yf.download(index, period =\"1y\")\n",
    "\n"
   ],
   "id": "ec59fe66828cea63",
   "outputs": [
    {
     "name": "stderr",
     "output_type": "stream",
     "text": [
      "[*********************100%***********************]  1 of 1 completed\n",
      "[*********************100%***********************]  1 of 1 completed\n",
      "[*********************100%***********************]  1 of 1 completed\n",
      "[*********************100%***********************]  1 of 1 completed\n",
      "[*********************100%***********************]  1 of 1 completed\n",
      "[*********************100%***********************]  1 of 1 completed\n",
      "[*********************100%***********************]  1 of 1 completed\n",
      "[*********************100%***********************]  1 of 1 completed\n",
      "[*********************100%***********************]  1 of 1 completed\n"
     ]
    }
   ],
   "execution_count": 9
  },
  {
   "metadata": {
    "ExecuteTime": {
     "end_time": "2024-12-19T13:11:46.233412Z",
     "start_time": "2024-12-19T13:11:46.221464Z"
    }
   },
   "cell_type": "code",
   "source": [
    "#Check that the data is fetched\n",
    "stock_data['^GSPC'].head()\n",
    "\n"
   ],
   "id": "6b5fff789bb9d021",
   "outputs": [
    {
     "data": {
      "text/plain": [
       "Price         Adj Close        Close         High          Low         Open  \\\n",
       "Ticker            ^GSPC        ^GSPC        ^GSPC        ^GSPC        ^GSPC   \n",
       "Date                                                                          \n",
       "2023-12-19  4768.370117  4768.370117  4768.689941  4743.720215  4743.720215   \n",
       "2023-12-20  4698.350098  4698.350098  4778.009766  4697.819824  4764.729980   \n",
       "2023-12-21  4746.750000  4746.750000  4748.709961  4708.350098  4724.290039   \n",
       "2023-12-22  4754.629883  4754.629883  4772.939941  4736.770020  4753.919922   \n",
       "2023-12-26  4774.750000  4774.750000  4784.720215  4758.450195  4758.859863   \n",
       "\n",
       "Price           Volume  \n",
       "Ticker           ^GSPC  \n",
       "Date                    \n",
       "2023-12-19  4026970000  \n",
       "2023-12-20  4201320000  \n",
       "2023-12-21  3431180000  \n",
       "2023-12-22  3046770000  \n",
       "2023-12-26  2513910000  "
      ],
      "text/html": [
       "<div>\n",
       "<style scoped>\n",
       "    .dataframe tbody tr th:only-of-type {\n",
       "        vertical-align: middle;\n",
       "    }\n",
       "\n",
       "    .dataframe tbody tr th {\n",
       "        vertical-align: top;\n",
       "    }\n",
       "\n",
       "    .dataframe thead tr th {\n",
       "        text-align: left;\n",
       "    }\n",
       "\n",
       "    .dataframe thead tr:last-of-type th {\n",
       "        text-align: right;\n",
       "    }\n",
       "</style>\n",
       "<table border=\"1\" class=\"dataframe\">\n",
       "  <thead>\n",
       "    <tr>\n",
       "      <th>Price</th>\n",
       "      <th>Adj Close</th>\n",
       "      <th>Close</th>\n",
       "      <th>High</th>\n",
       "      <th>Low</th>\n",
       "      <th>Open</th>\n",
       "      <th>Volume</th>\n",
       "    </tr>\n",
       "    <tr>\n",
       "      <th>Ticker</th>\n",
       "      <th>^GSPC</th>\n",
       "      <th>^GSPC</th>\n",
       "      <th>^GSPC</th>\n",
       "      <th>^GSPC</th>\n",
       "      <th>^GSPC</th>\n",
       "      <th>^GSPC</th>\n",
       "    </tr>\n",
       "    <tr>\n",
       "      <th>Date</th>\n",
       "      <th></th>\n",
       "      <th></th>\n",
       "      <th></th>\n",
       "      <th></th>\n",
       "      <th></th>\n",
       "      <th></th>\n",
       "    </tr>\n",
       "  </thead>\n",
       "  <tbody>\n",
       "    <tr>\n",
       "      <th>2023-12-19</th>\n",
       "      <td>4768.370117</td>\n",
       "      <td>4768.370117</td>\n",
       "      <td>4768.689941</td>\n",
       "      <td>4743.720215</td>\n",
       "      <td>4743.720215</td>\n",
       "      <td>4026970000</td>\n",
       "    </tr>\n",
       "    <tr>\n",
       "      <th>2023-12-20</th>\n",
       "      <td>4698.350098</td>\n",
       "      <td>4698.350098</td>\n",
       "      <td>4778.009766</td>\n",
       "      <td>4697.819824</td>\n",
       "      <td>4764.729980</td>\n",
       "      <td>4201320000</td>\n",
       "    </tr>\n",
       "    <tr>\n",
       "      <th>2023-12-21</th>\n",
       "      <td>4746.750000</td>\n",
       "      <td>4746.750000</td>\n",
       "      <td>4748.709961</td>\n",
       "      <td>4708.350098</td>\n",
       "      <td>4724.290039</td>\n",
       "      <td>3431180000</td>\n",
       "    </tr>\n",
       "    <tr>\n",
       "      <th>2023-12-22</th>\n",
       "      <td>4754.629883</td>\n",
       "      <td>4754.629883</td>\n",
       "      <td>4772.939941</td>\n",
       "      <td>4736.770020</td>\n",
       "      <td>4753.919922</td>\n",
       "      <td>3046770000</td>\n",
       "    </tr>\n",
       "    <tr>\n",
       "      <th>2023-12-26</th>\n",
       "      <td>4774.750000</td>\n",
       "      <td>4774.750000</td>\n",
       "      <td>4784.720215</td>\n",
       "      <td>4758.450195</td>\n",
       "      <td>4758.859863</td>\n",
       "      <td>2513910000</td>\n",
       "    </tr>\n",
       "  </tbody>\n",
       "</table>\n",
       "</div>"
      ]
     },
     "execution_count": 10,
     "metadata": {},
     "output_type": "execute_result"
    }
   ],
   "execution_count": 10
  },
  {
   "metadata": {},
   "cell_type": "code",
   "outputs": [],
   "execution_count": null,
   "source": "",
   "id": "4a817277e41e5e8d"
  }
 ],
 "metadata": {
  "kernelspec": {
   "display_name": "Python 3",
   "language": "python",
   "name": "python3"
  },
  "language_info": {
   "codemirror_mode": {
    "name": "ipython",
    "version": 2
   },
   "file_extension": ".py",
   "mimetype": "text/x-python",
   "name": "python",
   "nbconvert_exporter": "python",
   "pygments_lexer": "ipython2",
   "version": "2.7.6"
  }
 },
 "nbformat": 4,
 "nbformat_minor": 5
}
