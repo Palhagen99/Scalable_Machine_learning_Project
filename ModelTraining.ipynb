{
 "cells": [
  {
   "metadata": {
    "ExecuteTime": {
     "end_time": "2024-12-18T11:45:41.192626Z",
     "start_time": "2024-12-18T11:45:09.346704Z"
    }
   },
   "cell_type": "code",
   "source": [
    "#Finbert model\n",
    "# Load model directly\n",
    "from transformers import AutoTokenizer, AutoModelForSequenceClassification\n",
    "\n",
    "tokenizer = AutoTokenizer.from_pretrained(\"ProsusAI/finbert\")\n",
    "model = AutoModelForSequenceClassification.from_pretrained(\"ProsusAI/finbert\")"
   ],
   "id": "b72629f11292658e",
   "outputs": [
    {
     "data": {
      "text/plain": [
       "tokenizer_config.json:   0%|          | 0.00/252 [00:00<?, ?B/s]"
      ],
      "application/vnd.jupyter.widget-view+json": {
       "version_major": 2,
       "version_minor": 0,
       "model_id": "ce9f475eeb1f4cd588a00af5709baa24"
      }
     },
     "metadata": {},
     "output_type": "display_data"
    },
    {
     "data": {
      "text/plain": [
       "config.json:   0%|          | 0.00/758 [00:00<?, ?B/s]"
      ],
      "application/vnd.jupyter.widget-view+json": {
       "version_major": 2,
       "version_minor": 0,
       "model_id": "ddbdb2ea6a1d49339da2130188965b96"
      }
     },
     "metadata": {},
     "output_type": "display_data"
    },
    {
     "data": {
      "text/plain": [
       "vocab.txt:   0%|          | 0.00/232k [00:00<?, ?B/s]"
      ],
      "application/vnd.jupyter.widget-view+json": {
       "version_major": 2,
       "version_minor": 0,
       "model_id": "3a3f3ab6a65643babffe11cf1466fb0d"
      }
     },
     "metadata": {},
     "output_type": "display_data"
    },
    {
     "data": {
      "text/plain": [
       "special_tokens_map.json:   0%|          | 0.00/112 [00:00<?, ?B/s]"
      ],
      "application/vnd.jupyter.widget-view+json": {
       "version_major": 2,
       "version_minor": 0,
       "model_id": "780b8e105cec42d2a3c833420b7d9f7e"
      }
     },
     "metadata": {},
     "output_type": "display_data"
    },
    {
     "data": {
      "text/plain": [
       "pytorch_model.bin:   0%|          | 0.00/438M [00:00<?, ?B/s]"
      ],
      "application/vnd.jupyter.widget-view+json": {
       "version_major": 2,
       "version_minor": 0,
       "model_id": "24b94e5119b642dc9890e961c80609fc"
      }
     },
     "metadata": {},
     "output_type": "display_data"
    }
   ],
   "execution_count": 1
  },
  {
   "metadata": {
    "ExecuteTime": {
     "end_time": "2024-12-19T14:50:15.956285Z",
     "start_time": "2024-12-19T14:50:15.737142Z"
    }
   },
   "cell_type": "code",
   "source": [
    "#Test the model\n",
    "from transformers import pipeline\n",
    "\n",
    "classifier = pipeline('sentiment-analysis', model=model, tokenizer=tokenizer)\n",
    "result = classifier(\"Nuclear war has broken out between Russia and the USA\", top_k=None)\n",
    "\n",
    "result = result\n",
    "\n",
    "print(result[0]['score'])\n",
    "\n",
    "print(result)"
   ],
   "id": "4ff9e08eaace7150",
   "outputs": [
    {
     "name": "stderr",
     "output_type": "stream",
     "text": [
      "Device set to use mps:0\n"
     ]
    },
    {
     "name": "stdout",
     "output_type": "stream",
     "text": [
      "0.7090891003608704\n",
      "[{'label': 'negative', 'score': 0.7090891003608704}, {'label': 'neutral', 'score': 0.25406184792518616}, {'label': 'positive', 'score': 0.03684897720813751}]\n"
     ]
    }
   ],
   "execution_count": 52
  },
  {
   "metadata": {
    "ExecuteTime": {
     "end_time": "2024-12-19T12:17:27.395236Z",
     "start_time": "2024-12-19T12:17:26.702817Z"
    }
   },
   "cell_type": "code",
   "source": [
    "#test of fetching news data from the news api\n",
    "from pygooglenews import GoogleNews\n",
    "import json\n",
    "import time \n",
    "import pandas as pd\n",
    "\n",
    "gn = GoogleNews()\n",
    "search = gn.search('^omx', when='3650d') \n",
    "news_data = search['entries']\n",
    "\n",
    "news_data = pd.DataFrame(news_data)\n",
    "news_data.to_csv(\"news_data.csv\")\n",
    "\n",
    "#we want to take only the headlines and the date from the news_data\n",
    "\n",
    "news_titles = news_data['title']\n",
    "\n",
    "#Save titles to a file\n",
    "news_titles.to_csv(\"news_titles.csv\")\n"
   ],
   "id": "80bfd0f977669b56",
   "outputs": [],
   "execution_count": 29
  },
  {
   "metadata": {
    "ExecuteTime": {
     "end_time": "2024-12-19T12:17:30.260306Z",
     "start_time": "2024-12-19T12:17:30.250771Z"
    }
   },
   "cell_type": "code",
   "source": [
    "#we want to load news_titles and enumerate them\n",
    "import pandas as pd\n",
    "import numpy as np\n",
    "\n",
    "news_titles = pd.read_csv('news_titles.csv')\n",
    "\n",
    "news_titles.drop('Unnamed: 0', axis=1, inplace=True)\n",
    "\n",
    "#Show all the titles\n",
    "news_titles\n",
    "\n"
   ],
   "id": "2969f16de6b144bc",
   "outputs": [
    {
     "data": {
      "text/plain": [
       "                                                title\n",
       "0                   European Market Activity - Nasdaq\n",
       "1   Orbea Orca OMX Custom SRAM Red AXS Build Revie...\n",
       "2   Early Data for OMX-0407 Fuel Expansion Cohorts...\n",
       "3   New Drug Could Sustain Oxygen-Starved Hearts -...\n",
       "4      Orbea Oiz OMX: First Ride Review - Bikers Edge\n",
       "..                                                ...\n",
       "95  Finland stocks lower at close of trade; OMX He...\n",
       "96  Nasdaq readjusts in OMX Stockholm Benchmark In...\n",
       "97  Knight Composites goes off-road with new MTB w...\n",
       "98  Finland stocks higher at close of trade; OMX H...\n",
       "99  Denmark stocks lower at close of trade; OMX Co...\n",
       "\n",
       "[100 rows x 1 columns]"
      ],
      "text/html": [
       "<div>\n",
       "<style scoped>\n",
       "    .dataframe tbody tr th:only-of-type {\n",
       "        vertical-align: middle;\n",
       "    }\n",
       "\n",
       "    .dataframe tbody tr th {\n",
       "        vertical-align: top;\n",
       "    }\n",
       "\n",
       "    .dataframe thead th {\n",
       "        text-align: right;\n",
       "    }\n",
       "</style>\n",
       "<table border=\"1\" class=\"dataframe\">\n",
       "  <thead>\n",
       "    <tr style=\"text-align: right;\">\n",
       "      <th></th>\n",
       "      <th>title</th>\n",
       "    </tr>\n",
       "  </thead>\n",
       "  <tbody>\n",
       "    <tr>\n",
       "      <th>0</th>\n",
       "      <td>European Market Activity - Nasdaq</td>\n",
       "    </tr>\n",
       "    <tr>\n",
       "      <th>1</th>\n",
       "      <td>Orbea Orca OMX Custom SRAM Red AXS Build Revie...</td>\n",
       "    </tr>\n",
       "    <tr>\n",
       "      <th>2</th>\n",
       "      <td>Early Data for OMX-0407 Fuel Expansion Cohorts...</td>\n",
       "    </tr>\n",
       "    <tr>\n",
       "      <th>3</th>\n",
       "      <td>New Drug Could Sustain Oxygen-Starved Hearts -...</td>\n",
       "    </tr>\n",
       "    <tr>\n",
       "      <th>4</th>\n",
       "      <td>Orbea Oiz OMX: First Ride Review - Bikers Edge</td>\n",
       "    </tr>\n",
       "    <tr>\n",
       "      <th>...</th>\n",
       "      <td>...</td>\n",
       "    </tr>\n",
       "    <tr>\n",
       "      <th>95</th>\n",
       "      <td>Finland stocks lower at close of trade; OMX He...</td>\n",
       "    </tr>\n",
       "    <tr>\n",
       "      <th>96</th>\n",
       "      <td>Nasdaq readjusts in OMX Stockholm Benchmark In...</td>\n",
       "    </tr>\n",
       "    <tr>\n",
       "      <th>97</th>\n",
       "      <td>Knight Composites goes off-road with new MTB w...</td>\n",
       "    </tr>\n",
       "    <tr>\n",
       "      <th>98</th>\n",
       "      <td>Finland stocks higher at close of trade; OMX H...</td>\n",
       "    </tr>\n",
       "    <tr>\n",
       "      <th>99</th>\n",
       "      <td>Denmark stocks lower at close of trade; OMX Co...</td>\n",
       "    </tr>\n",
       "  </tbody>\n",
       "</table>\n",
       "<p>100 rows × 1 columns</p>\n",
       "</div>"
      ]
     },
     "execution_count": 30,
     "metadata": {},
     "output_type": "execute_result"
    }
   ],
   "execution_count": 30
  },
  {
   "metadata": {
    "ExecuteTime": {
     "end_time": "2024-12-19T12:01:22.239885Z",
     "start_time": "2024-12-19T12:01:19.611193Z"
    }
   },
   "cell_type": "code",
   "source": [
    "#Check the titles with FInbert model\n",
    "scores = []\n",
    "for title in news_titles['title']:\n",
    "    result = classifier(title)\n",
    "    scores.append(result)\n",
    "    \n",
    "#combine the scores with the titles\n",
    "scores = pd.DataFrame(scores)\n",
    "news_titles['scores'] = scores\n",
    "news_titles.to_csv(\"news_titles_with_scores.csv\")\n"
   ],
   "id": "d1ed7b5dfa6447b2",
   "outputs": [],
   "execution_count": 27
  },
  {
   "metadata": {
    "ExecuteTime": {
     "end_time": "2024-12-19T12:25:28.635732Z",
     "start_time": "2024-12-19T12:25:28.556403Z"
    }
   },
   "cell_type": "code",
   "source": "print(classifier(\"The stock market is going up as fed raises interest rates\"))",
   "id": "42f89acf5f9d09f2",
   "outputs": [
    {
     "name": "stdout",
     "output_type": "stream",
     "text": [
      "[{'label': 'positive', 'score': 0.8155226111412048}]\n"
     ]
    }
   ],
   "execution_count": 38
  },
  {
   "metadata": {
    "ExecuteTime": {
     "end_time": "2024-12-19T12:33:53.316830Z",
     "start_time": "2024-12-19T12:33:44.542610Z"
    }
   },
   "cell_type": "code",
   "source": [
    "#Sectors relevant to OMX30 \n",
    "#Sectors: Industrials, Financials, Telecom, Consumer Discretionary \n",
    "#Crawl news data for these sectors in regards to Sweden and OMX30\n",
    "\n",
    "gn = GoogleNews()\n",
    "search_1 = gn.search('Industrials Sweden', when='3650d')\n",
    "search_2 = gn.search('Financials Sweden', when='3650d')\n",
    "search_3 = gn.search('Telecom Sweden', when='3650d')\n",
    "search_4 = gn.search('Consumer Discretionary Sweden', when='3650d')\n",
    "\n",
    "#Combine the data into one dataframe\n",
    "news_data = search_1['entries'] + search_2['entries'] + search_3['entries'] + search_4['entries']\n",
    "news_data = pd.DataFrame(news_data)\n",
    "\n",
    "#peforme sentiment analysis on the news data\n",
    "news_titles = news_data['title']\n",
    "scores = []\n",
    "for title in news_titles:\n",
    "    result = classifier(title)\n",
    "    scores.append(result)\n",
    "    \n",
    "#combine the scores with the titles putting the scores first\n",
    "scores = pd.DataFrame(scores)\n",
    "news_data['scores'] = scores\n",
    "news_data.to_csv(\"news_data_with_scores_sectors.csv\")\n"
   ],
   "id": "ece0afd52b45c86",
   "outputs": [],
   "execution_count": 39
  },
  {
   "metadata": {},
   "cell_type": "code",
   "outputs": [],
   "execution_count": null,
   "source": "",
   "id": "5d03c9dcf07dfc50"
  }
 ],
 "metadata": {
  "kernelspec": {
   "display_name": "Python 3",
   "language": "python",
   "name": "python3"
  },
  "language_info": {
   "codemirror_mode": {
    "name": "ipython",
    "version": 2
   },
   "file_extension": ".py",
   "mimetype": "text/x-python",
   "name": "python",
   "nbconvert_exporter": "python",
   "pygments_lexer": "ipython2",
   "version": "2.7.6"
  }
 },
 "nbformat": 4,
 "nbformat_minor": 5
}
