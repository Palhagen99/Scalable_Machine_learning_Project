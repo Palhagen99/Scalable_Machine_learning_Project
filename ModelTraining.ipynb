{
 "cells": [
  {
   "metadata": {
    "ExecuteTime": {
     "end_time": "2024-12-18T11:45:41.192626Z",
     "start_time": "2024-12-18T11:45:09.346704Z"
    }
   },
   "cell_type": "code",
   "source": [
    "#Finbert model\n",
    "# Load model directly\n",
    "from transformers import AutoTokenizer, AutoModelForSequenceClassification\n",
    "\n",
    "tokenizer = AutoTokenizer.from_pretrained(\"ProsusAI/finbert\")\n",
    "model = AutoModelForSequenceClassification.from_pretrained(\"ProsusAI/finbert\")"
   ],
   "id": "b72629f11292658e",
   "outputs": [
    {
     "data": {
      "text/plain": [
       "tokenizer_config.json:   0%|          | 0.00/252 [00:00<?, ?B/s]"
      ],
      "application/vnd.jupyter.widget-view+json": {
       "version_major": 2,
       "version_minor": 0,
       "model_id": "ce9f475eeb1f4cd588a00af5709baa24"
      }
     },
     "metadata": {},
     "output_type": "display_data"
    },
    {
     "data": {
      "text/plain": [
       "config.json:   0%|          | 0.00/758 [00:00<?, ?B/s]"
      ],
      "application/vnd.jupyter.widget-view+json": {
       "version_major": 2,
       "version_minor": 0,
       "model_id": "ddbdb2ea6a1d49339da2130188965b96"
      }
     },
     "metadata": {},
     "output_type": "display_data"
    },
    {
     "data": {
      "text/plain": [
       "vocab.txt:   0%|          | 0.00/232k [00:00<?, ?B/s]"
      ],
      "application/vnd.jupyter.widget-view+json": {
       "version_major": 2,
       "version_minor": 0,
       "model_id": "3a3f3ab6a65643babffe11cf1466fb0d"
      }
     },
     "metadata": {},
     "output_type": "display_data"
    },
    {
     "data": {
      "text/plain": [
       "special_tokens_map.json:   0%|          | 0.00/112 [00:00<?, ?B/s]"
      ],
      "application/vnd.jupyter.widget-view+json": {
       "version_major": 2,
       "version_minor": 0,
       "model_id": "780b8e105cec42d2a3c833420b7d9f7e"
      }
     },
     "metadata": {},
     "output_type": "display_data"
    },
    {
     "data": {
      "text/plain": [
       "pytorch_model.bin:   0%|          | 0.00/438M [00:00<?, ?B/s]"
      ],
      "application/vnd.jupyter.widget-view+json": {
       "version_major": 2,
       "version_minor": 0,
       "model_id": "24b94e5119b642dc9890e961c80609fc"
      }
     },
     "metadata": {},
     "output_type": "display_data"
    }
   ],
   "execution_count": 1
  },
  {
   "metadata": {
    "ExecuteTime": {
     "end_time": "2024-12-18T11:49:44.883759Z",
     "start_time": "2024-12-18T11:49:44.212121Z"
    }
   },
   "cell_type": "code",
   "source": [
    "#Test the model\n",
    "from transformers import pipeline\n",
    "\n",
    "classifier = pipeline('sentiment-analysis', model=model, tokenizer=tokenizer)\n",
    "result = classifier(\"\")\n",
    "\n",
    "print(result)"
   ],
   "id": "4ff9e08eaace7150",
   "outputs": [
    {
     "name": "stderr",
     "output_type": "stream",
     "text": [
      "Device set to use mps:0\n"
     ]
    },
    {
     "name": "stdout",
     "output_type": "stream",
     "text": [
      "[{'label': 'neutral', 'score': 0.4741797149181366}]\n"
     ]
    }
   ],
   "execution_count": 7
  },
  {
   "metadata": {
    "ExecuteTime": {
     "end_time": "2024-12-18T21:04:08.381832Z",
     "start_time": "2024-12-18T21:04:07.576723Z"
    }
   },
   "cell_type": "code",
   "source": [
    "#test of fetching news data from the news api\n",
    "from pygooglenews import GoogleNews\n",
    "import json\n",
    "import time \n",
    "\n",
    "gn = GoogleNews()\n",
    "search = gn.search('^omx', when='3650d') \n",
    "news_data = search['entries']\n",
    "\n",
    "news_data = pd.DataFrame(news_data)\n",
    "news_data.to_csv(\"news_data.csv\")\n",
    "\n",
    "#we want to take only the headlines and the date from the news_data\n",
    "\n",
    "news_titles = news_data['title']\n",
    "\n",
    "#Save titles to a file\n",
    "news_titles.to_csv(\"news_titles.csv\")\n"
   ],
   "id": "80bfd0f977669b56",
   "outputs": [],
   "execution_count": 24
  },
  {
   "metadata": {
    "ExecuteTime": {
     "end_time": "2024-12-18T21:04:10.964169Z",
     "start_time": "2024-12-18T21:04:10.951341Z"
    }
   },
   "cell_type": "code",
   "source": [
    "#we want to load news_titles and enumerate them\n",
    "import pandas as pd\n",
    "import numpy as np\n",
    "\n",
    "news_titles = pd.read_csv('news_titles.csv')\n",
    "\n",
    "news_titles.drop('Unnamed: 0', axis=1, inplace=True)\n",
    "\n",
    "#Show all the titles\n",
    "news_titles\n",
    "\n"
   ],
   "id": "2969f16de6b144bc",
   "outputs": [
    {
     "data": {
      "text/plain": [
       "                                                title\n",
       "0   Orbea Orca OMX Custom SRAM Red AXS Build Revie...\n",
       "1   Early Data for OMX-0407 Fuel Expansion Cohorts...\n",
       "2   New Drug Could Sustain Oxygen-Starved Hearts -...\n",
       "3      Orbea Oiz OMX: First Ride Review - Bikers Edge\n",
       "4   New Firm OMX Ventures, Backed By Billionaire M...\n",
       "..                                                ...\n",
       "95  Finland stocks higher at close of trade; OMX H...\n",
       "96  Lightweight aero is out as Orbea Orca prioriti...\n",
       "97  Finland stocks higher at close of trade; OMX H...\n",
       "98  Review: 2023 Orbea Oiz M-Pro - Don't Call it D...\n",
       "99  Sweden stocks lower at close of trade; OMX Sto...\n",
       "\n",
       "[100 rows x 1 columns]"
      ],
      "text/html": [
       "<div>\n",
       "<style scoped>\n",
       "    .dataframe tbody tr th:only-of-type {\n",
       "        vertical-align: middle;\n",
       "    }\n",
       "\n",
       "    .dataframe tbody tr th {\n",
       "        vertical-align: top;\n",
       "    }\n",
       "\n",
       "    .dataframe thead th {\n",
       "        text-align: right;\n",
       "    }\n",
       "</style>\n",
       "<table border=\"1\" class=\"dataframe\">\n",
       "  <thead>\n",
       "    <tr style=\"text-align: right;\">\n",
       "      <th></th>\n",
       "      <th>title</th>\n",
       "    </tr>\n",
       "  </thead>\n",
       "  <tbody>\n",
       "    <tr>\n",
       "      <th>0</th>\n",
       "      <td>Orbea Orca OMX Custom SRAM Red AXS Build Revie...</td>\n",
       "    </tr>\n",
       "    <tr>\n",
       "      <th>1</th>\n",
       "      <td>Early Data for OMX-0407 Fuel Expansion Cohorts...</td>\n",
       "    </tr>\n",
       "    <tr>\n",
       "      <th>2</th>\n",
       "      <td>New Drug Could Sustain Oxygen-Starved Hearts -...</td>\n",
       "    </tr>\n",
       "    <tr>\n",
       "      <th>3</th>\n",
       "      <td>Orbea Oiz OMX: First Ride Review - Bikers Edge</td>\n",
       "    </tr>\n",
       "    <tr>\n",
       "      <th>4</th>\n",
       "      <td>New Firm OMX Ventures, Backed By Billionaire M...</td>\n",
       "    </tr>\n",
       "    <tr>\n",
       "      <th>...</th>\n",
       "      <td>...</td>\n",
       "    </tr>\n",
       "    <tr>\n",
       "      <th>95</th>\n",
       "      <td>Finland stocks higher at close of trade; OMX H...</td>\n",
       "    </tr>\n",
       "    <tr>\n",
       "      <th>96</th>\n",
       "      <td>Lightweight aero is out as Orbea Orca prioriti...</td>\n",
       "    </tr>\n",
       "    <tr>\n",
       "      <th>97</th>\n",
       "      <td>Finland stocks higher at close of trade; OMX H...</td>\n",
       "    </tr>\n",
       "    <tr>\n",
       "      <th>98</th>\n",
       "      <td>Review: 2023 Orbea Oiz M-Pro - Don't Call it D...</td>\n",
       "    </tr>\n",
       "    <tr>\n",
       "      <th>99</th>\n",
       "      <td>Sweden stocks lower at close of trade; OMX Sto...</td>\n",
       "    </tr>\n",
       "  </tbody>\n",
       "</table>\n",
       "<p>100 rows × 1 columns</p>\n",
       "</div>"
      ]
     },
     "execution_count": 25,
     "metadata": {},
     "output_type": "execute_result"
    }
   ],
   "execution_count": 25
  },
  {
   "metadata": {
    "ExecuteTime": {
     "end_time": "2024-12-18T21:04:22.902385Z",
     "start_time": "2024-12-18T21:04:20.145074Z"
    }
   },
   "cell_type": "code",
   "source": [
    "#Check the titles with FInbert model\n",
    "scores = []\n",
    "for title in news_titles['title']:\n",
    "    result = classifier(title)\n",
    "    scores.append(result)\n",
    "    \n",
    "scores"
   ],
   "id": "d1ed7b5dfa6447b2",
   "outputs": [
    {
     "data": {
      "text/plain": [
       "[[{'label': 'neutral', 'score': 0.9471303224563599}],\n",
       " [{'label': 'neutral', 'score': 0.9043235182762146}],\n",
       " [{'label': 'neutral', 'score': 0.7902360558509827}],\n",
       " [{'label': 'neutral', 'score': 0.9009918570518494}],\n",
       " [{'label': 'neutral', 'score': 0.7056843638420105}],\n",
       " [{'label': 'positive', 'score': 0.5953915119171143}],\n",
       " [{'label': 'neutral', 'score': 0.9326032996177673}],\n",
       " [{'label': 'neutral', 'score': 0.9371419548988342}],\n",
       " [{'label': 'neutral', 'score': 0.9356501698493958}],\n",
       " [{'label': 'neutral', 'score': 0.9295192360877991}],\n",
       " [{'label': 'neutral', 'score': 0.8756631016731262}],\n",
       " [{'label': 'neutral', 'score': 0.9228236079216003}],\n",
       " [{'label': 'neutral', 'score': 0.9244688153266907}],\n",
       " [{'label': 'neutral', 'score': 0.9373089671134949}],\n",
       " [{'label': 'neutral', 'score': 0.8933758735656738}],\n",
       " [{'label': 'neutral', 'score': 0.909151554107666}],\n",
       " [{'label': 'neutral', 'score': 0.767198383808136}],\n",
       " [{'label': 'neutral', 'score': 0.7821202278137207}],\n",
       " [{'label': 'neutral', 'score': 0.9373089671134949}],\n",
       " [{'label': 'neutral', 'score': 0.833412766456604}],\n",
       " [{'label': 'positive', 'score': 0.9228377342224121}],\n",
       " [{'label': 'neutral', 'score': 0.7812941074371338}],\n",
       " [{'label': 'neutral', 'score': 0.8838503956794739}],\n",
       " [{'label': 'neutral', 'score': 0.9188251495361328}],\n",
       " [{'label': 'negative', 'score': 0.9578288793563843}],\n",
       " [{'label': 'positive', 'score': 0.9204767346382141}],\n",
       " [{'label': 'positive', 'score': 0.9136922955513}],\n",
       " [{'label': 'negative', 'score': 0.9570870995521545}],\n",
       " [{'label': 'negative', 'score': 0.9565163254737854}],\n",
       " [{'label': 'neutral', 'score': 0.9513189792633057}],\n",
       " [{'label': 'negative', 'score': 0.9610376954078674}],\n",
       " [{'label': 'neutral', 'score': 0.5358430743217468}],\n",
       " [{'label': 'negative', 'score': 0.953963041305542}],\n",
       " [{'label': 'positive', 'score': 0.9195703864097595}],\n",
       " [{'label': 'negative', 'score': 0.9556972980499268}],\n",
       " [{'label': 'negative', 'score': 0.9578750729560852}],\n",
       " [{'label': 'neutral', 'score': 0.9473270177841187}],\n",
       " [{'label': 'positive', 'score': 0.9188717603683472}],\n",
       " [{'label': 'neutral', 'score': 0.9348446726799011}],\n",
       " [{'label': 'positive', 'score': 0.9188185930252075}],\n",
       " [{'label': 'negative', 'score': 0.9595156908035278}],\n",
       " [{'label': 'positive', 'score': 0.9258835911750793}],\n",
       " [{'label': 'positive', 'score': 0.917576253414154}],\n",
       " [{'label': 'neutral', 'score': 0.7358593344688416}],\n",
       " [{'label': 'neutral', 'score': 0.8077324628829956}],\n",
       " [{'label': 'positive', 'score': 0.9199867248535156}],\n",
       " [{'label': 'negative', 'score': 0.9555984139442444}],\n",
       " [{'label': 'neutral', 'score': 0.7872638702392578}],\n",
       " [{'label': 'negative', 'score': 0.9595156908035278}],\n",
       " [{'label': 'positive', 'score': 0.9135397672653198}],\n",
       " [{'label': 'negative', 'score': 0.95720374584198}],\n",
       " [{'label': 'positive', 'score': 0.9269014000892639}],\n",
       " [{'label': 'neutral', 'score': 0.8873680830001831}],\n",
       " [{'label': 'positive', 'score': 0.917505145072937}],\n",
       " [{'label': 'negative', 'score': 0.9579303860664368}],\n",
       " [{'label': 'neutral', 'score': 0.9190795421600342}],\n",
       " [{'label': 'neutral', 'score': 0.9102548360824585}],\n",
       " [{'label': 'negative', 'score': 0.9563900232315063}],\n",
       " [{'label': 'neutral', 'score': 0.9421049356460571}],\n",
       " [{'label': 'negative', 'score': 0.9552457332611084}],\n",
       " [{'label': 'positive', 'score': 0.9226364493370056}],\n",
       " [{'label': 'neutral', 'score': 0.857955276966095}],\n",
       " [{'label': 'neutral', 'score': 0.9205102324485779}],\n",
       " [{'label': 'negative', 'score': 0.9573835134506226}],\n",
       " [{'label': 'negative', 'score': 0.9569910168647766}],\n",
       " [{'label': 'negative', 'score': 0.9587629437446594}],\n",
       " [{'label': 'negative', 'score': 0.9595462083816528}],\n",
       " [{'label': 'negative', 'score': 0.9538557529449463}],\n",
       " [{'label': 'negative', 'score': 0.5132265090942383}],\n",
       " [{'label': 'negative', 'score': 0.9561067223548889}],\n",
       " [{'label': 'neutral', 'score': 0.9350346326828003}],\n",
       " [{'label': 'negative', 'score': 0.9578750729560852}],\n",
       " [{'label': 'neutral', 'score': 0.8887486457824707}],\n",
       " [{'label': 'positive', 'score': 0.9282048940658569}],\n",
       " [{'label': 'neutral', 'score': 0.9412909746170044}],\n",
       " [{'label': 'positive', 'score': 0.9223898649215698}],\n",
       " [{'label': 'positive', 'score': 0.9176890850067139}],\n",
       " [{'label': 'positive', 'score': 0.9125920534133911}],\n",
       " [{'label': 'negative', 'score': 0.9565428495407104}],\n",
       " [{'label': 'positive', 'score': 0.926924467086792}],\n",
       " [{'label': 'positive', 'score': 0.9274575710296631}],\n",
       " [{'label': 'negative', 'score': 0.9580036997795105}],\n",
       " [{'label': 'negative', 'score': 0.9574959874153137}],\n",
       " [{'label': 'positive', 'score': 0.9262294173240662}],\n",
       " [{'label': 'negative', 'score': 0.9577991366386414}],\n",
       " [{'label': 'negative', 'score': 0.9603079557418823}],\n",
       " [{'label': 'neutral', 'score': 0.7244287133216858}],\n",
       " [{'label': 'positive', 'score': 0.5907310843467712}],\n",
       " [{'label': 'positive', 'score': 0.913754403591156}],\n",
       " [{'label': 'negative', 'score': 0.9562448263168335}],\n",
       " [{'label': 'positive', 'score': 0.9262805581092834}],\n",
       " [{'label': 'positive', 'score': 0.9319785237312317}],\n",
       " [{'label': 'neutral', 'score': 0.8791808485984802}],\n",
       " [{'label': 'negative', 'score': 0.9547368288040161}],\n",
       " [{'label': 'negative', 'score': 0.9598124027252197}],\n",
       " [{'label': 'positive', 'score': 0.9286137223243713}],\n",
       " [{'label': 'negative', 'score': 0.5516496300697327}],\n",
       " [{'label': 'positive', 'score': 0.9314926266670227}],\n",
       " [{'label': 'neutral', 'score': 0.9469858407974243}],\n",
       " [{'label': 'negative', 'score': 0.9553605318069458}]]"
      ]
     },
     "execution_count": 26,
     "metadata": {},
     "output_type": "execute_result"
    }
   ],
   "execution_count": 26
  },
  {
   "metadata": {},
   "cell_type": "code",
   "outputs": [],
   "execution_count": null,
   "source": "",
   "id": "42f89acf5f9d09f2"
  }
 ],
 "metadata": {
  "kernelspec": {
   "display_name": "Python 3",
   "language": "python",
   "name": "python3"
  },
  "language_info": {
   "codemirror_mode": {
    "name": "ipython",
    "version": 2
   },
   "file_extension": ".py",
   "mimetype": "text/x-python",
   "name": "python",
   "nbconvert_exporter": "python",
   "pygments_lexer": "ipython2",
   "version": "2.7.6"
  }
 },
 "nbformat": 4,
 "nbformat_minor": 5
}
