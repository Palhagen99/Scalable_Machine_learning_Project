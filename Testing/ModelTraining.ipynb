{
 "cells": [
  {
   "metadata": {
    "ExecuteTime": {
     "end_time": "2024-12-22T21:31:40.043520Z",
     "start_time": "2024-12-22T21:31:39.273920Z"
    }
   },
   "cell_type": "code",
   "source": [
    "#Finbert model\n",
    "# Load model directly\n",
    "from transformers import AutoTokenizer, AutoModelForSequenceClassification\n",
    "\n",
    "tokenizer = AutoTokenizer.from_pretrained(\"ProsusAI/finbert\")\n",
    "model = AutoModelForSequenceClassification.from_pretrained(\"ProsusAI/finbert\")"
   ],
   "id": "b72629f11292658e",
   "outputs": [
    {
     "name": "stderr",
     "output_type": "stream",
     "text": [
      "huggingface/tokenizers: The current process just got forked, after parallelism has already been used. Disabling parallelism to avoid deadlocks...\n",
      "To disable this warning, you can either:\n",
      "\t- Avoid using `tokenizers` before the fork if possible\n",
      "\t- Explicitly set the environment variable TOKENIZERS_PARALLELISM=(true | false)\n"
     ]
    }
   ],
   "execution_count": 55
  },
  {
   "metadata": {
    "ExecuteTime": {
     "end_time": "2024-12-22T21:31:41.902458Z",
     "start_time": "2024-12-22T21:31:40.047314Z"
    }
   },
   "cell_type": "code",
   "source": [
    "#Test the model\n",
    "from transformers import pipeline\n",
    "\n",
    "classifier = pipeline('sentiment-analysis', model=model, tokenizer=tokenizer)\n",
    "result = classifier(\"Nuclear war has broken out between Russia and the USA\")\n",
    "\n",
    "result = result\n",
    "print(result)"
   ],
   "id": "4ff9e08eaace7150",
   "outputs": [
    {
     "name": "stderr",
     "output_type": "stream",
     "text": [
      "Device set to use mps:0\n"
     ]
    },
    {
     "name": "stdout",
     "output_type": "stream",
     "text": [
      "[{'label': 'negative', 'score': 0.7090891003608704}]\n"
     ]
    }
   ],
   "execution_count": 56
  },
  {
   "metadata": {
    "ExecuteTime": {
     "end_time": "2024-12-22T21:32:28.494485Z",
     "start_time": "2024-12-22T21:31:41.903440Z"
    }
   },
   "cell_type": "code",
   "source": [
    "#test of fetching news data from the news api\n",
    "from pygooglenews import GoogleNews\n",
    "import json\n",
    "import time \n",
    "import pandas as pd\n",
    "\n",
    "gn = GoogleNews()\n",
    "search = gn.search('^omx', when='3650d') \n",
    "news_data = search['entries']\n",
    "\n",
    "news_data = pd.DataFrame(news_data)\n",
    "news_data.to_csv(\"news_data.csv\")\n",
    "\n",
    "#we want to take only the headlines and the date from the news_data\n",
    "\n",
    "news_titles = news_data['title']\n",
    "\n",
    "#Save titles to a file\n",
    "news_titles.to_csv(\"news_titles.csv\")\n"
   ],
   "id": "80bfd0f977669b56",
   "outputs": [],
   "execution_count": 57
  },
  {
   "metadata": {
    "ExecuteTime": {
     "end_time": "2024-12-22T21:32:28.515809Z",
     "start_time": "2024-12-22T21:32:28.498149Z"
    }
   },
   "cell_type": "code",
   "source": [
    "#we want to load news_titles and enumerate them\n",
    "import pandas as pd\n",
    "import numpy as np\n",
    "\n",
    "news_titles = pd.read_csv('news_titles.csv')\n",
    "\n",
    "news_titles.drop('Unnamed: 0', axis=1, inplace=True)\n",
    "\n",
    "#Show all the titles\n",
    "news_titles\n",
    "\n"
   ],
   "id": "2969f16de6b144bc",
   "outputs": [
    {
     "data": {
      "text/plain": [
       "                                                title\n",
       "0   Orbea Orca OMX Custom SRAM Red AXS Build Revie...\n",
       "1   Early Data for OMX-0407 Fuel Expansion Cohorts...\n",
       "2   New Drug Could Sustain Oxygen-Starved Hearts -...\n",
       "3                   European Market Activity - Nasdaq\n",
       "4      Orbea Oiz OMX: First Ride Review - Bikers Edge\n",
       "..                                                ...\n",
       "94  Nasdaq to pay $4 mln settlement over apparent ...\n",
       "95  Sweden stocks lower at close of trade; OMX Sto...\n",
       "96  Denmark stocks higher at close of trade; OMX C...\n",
       "97  Sweden stocks higher at close of trade; OMX St...\n",
       "98  Denmark stocks higher at close of trade; OMX C...\n",
       "\n",
       "[99 rows x 1 columns]"
      ],
      "text/html": [
       "<div>\n",
       "<style scoped>\n",
       "    .dataframe tbody tr th:only-of-type {\n",
       "        vertical-align: middle;\n",
       "    }\n",
       "\n",
       "    .dataframe tbody tr th {\n",
       "        vertical-align: top;\n",
       "    }\n",
       "\n",
       "    .dataframe thead th {\n",
       "        text-align: right;\n",
       "    }\n",
       "</style>\n",
       "<table border=\"1\" class=\"dataframe\">\n",
       "  <thead>\n",
       "    <tr style=\"text-align: right;\">\n",
       "      <th></th>\n",
       "      <th>title</th>\n",
       "    </tr>\n",
       "  </thead>\n",
       "  <tbody>\n",
       "    <tr>\n",
       "      <th>0</th>\n",
       "      <td>Orbea Orca OMX Custom SRAM Red AXS Build Revie...</td>\n",
       "    </tr>\n",
       "    <tr>\n",
       "      <th>1</th>\n",
       "      <td>Early Data for OMX-0407 Fuel Expansion Cohorts...</td>\n",
       "    </tr>\n",
       "    <tr>\n",
       "      <th>2</th>\n",
       "      <td>New Drug Could Sustain Oxygen-Starved Hearts -...</td>\n",
       "    </tr>\n",
       "    <tr>\n",
       "      <th>3</th>\n",
       "      <td>European Market Activity - Nasdaq</td>\n",
       "    </tr>\n",
       "    <tr>\n",
       "      <th>4</th>\n",
       "      <td>Orbea Oiz OMX: First Ride Review - Bikers Edge</td>\n",
       "    </tr>\n",
       "    <tr>\n",
       "      <th>...</th>\n",
       "      <td>...</td>\n",
       "    </tr>\n",
       "    <tr>\n",
       "      <th>94</th>\n",
       "      <td>Nasdaq to pay $4 mln settlement over apparent ...</td>\n",
       "    </tr>\n",
       "    <tr>\n",
       "      <th>95</th>\n",
       "      <td>Sweden stocks lower at close of trade; OMX Sto...</td>\n",
       "    </tr>\n",
       "    <tr>\n",
       "      <th>96</th>\n",
       "      <td>Denmark stocks higher at close of trade; OMX C...</td>\n",
       "    </tr>\n",
       "    <tr>\n",
       "      <th>97</th>\n",
       "      <td>Sweden stocks higher at close of trade; OMX St...</td>\n",
       "    </tr>\n",
       "    <tr>\n",
       "      <th>98</th>\n",
       "      <td>Denmark stocks higher at close of trade; OMX C...</td>\n",
       "    </tr>\n",
       "  </tbody>\n",
       "</table>\n",
       "<p>99 rows × 1 columns</p>\n",
       "</div>"
      ]
     },
     "execution_count": 58,
     "metadata": {},
     "output_type": "execute_result"
    }
   ],
   "execution_count": 58
  },
  {
   "metadata": {
    "ExecuteTime": {
     "end_time": "2024-12-22T21:32:28.518494Z",
     "start_time": "2024-12-22T21:32:28.516797Z"
    }
   },
   "cell_type": "code",
   "source": "",
   "id": "ac8b38a5856b4a37",
   "outputs": [],
   "execution_count": 58
  },
  {
   "metadata": {
    "ExecuteTime": {
     "end_time": "2024-12-22T21:32:42.783898Z",
     "start_time": "2024-12-22T21:32:40.489033Z"
    }
   },
   "cell_type": "code",
   "source": [
    "#Check the titles with FInbert model\n",
    "scores = []\n",
    "for title in news_titles['title']:\n",
    "    result = classifier(title)\n",
    "    print(result)\n",
    "    \n",
    "#combine the scores with the titles\n",
    "scores = pd.DataFrame(scores)\n",
    "news_titles['scores'] = scores\n",
    "news_titles.to_csv(\"news_titles_with_scores.csv\")\n"
   ],
   "id": "d1ed7b5dfa6447b2",
   "outputs": [
    {
     "name": "stdout",
     "output_type": "stream",
     "text": [
      "[{'label': 'neutral', 'score': 0.9471303224563599}]\n",
      "[{'label': 'neutral', 'score': 0.9043235182762146}]\n",
      "[{'label': 'neutral', 'score': 0.7902360558509827}]\n",
      "[{'label': 'neutral', 'score': 0.9371419548988342}]\n",
      "[{'label': 'neutral', 'score': 0.9009918570518494}]\n",
      "[{'label': 'neutral', 'score': 0.7056843638420105}]\n",
      "[{'label': 'positive', 'score': 0.5953915119171143}]\n",
      "[{'label': 'neutral', 'score': 0.9326032996177673}]\n",
      "[{'label': 'neutral', 'score': 0.9295192360877991}]\n",
      "[{'label': 'neutral', 'score': 0.9356501698493958}]\n",
      "[{'label': 'neutral', 'score': 0.9410625696182251}]\n",
      "[{'label': 'neutral', 'score': 0.8756631016731262}]\n",
      "[{'label': 'neutral', 'score': 0.9228236079216003}]\n",
      "[{'label': 'neutral', 'score': 0.9373089671134949}]\n",
      "[{'label': 'neutral', 'score': 0.9244688153266907}]\n",
      "[{'label': 'positive', 'score': 0.9228377342224121}]\n",
      "[{'label': 'neutral', 'score': 0.767198383808136}]\n",
      "[{'label': 'neutral', 'score': 0.7821202278137207}]\n",
      "[{'label': 'neutral', 'score': 0.9373089671134949}]\n",
      "[{'label': 'neutral', 'score': 0.909151554107666}]\n",
      "[{'label': 'neutral', 'score': 0.7812941074371338}]\n",
      "[{'label': 'neutral', 'score': 0.9188251495361328}]\n",
      "[{'label': 'neutral', 'score': 0.8838503956794739}]\n",
      "[{'label': 'negative', 'score': 0.9578181505203247}]\n",
      "[{'label': 'neutral', 'score': 0.9513189792633057}]\n",
      "[{'label': 'negative', 'score': 0.8392874002456665}]\n",
      "[{'label': 'positive', 'score': 0.7717207074165344}]\n",
      "[{'label': 'negative', 'score': 0.9547962546348572}]\n",
      "[{'label': 'neutral', 'score': 0.9348446726799011}]\n",
      "[{'label': 'positive', 'score': 0.918185293674469}]\n",
      "[{'label': 'neutral', 'score': 0.9473270177841187}]\n",
      "[{'label': 'neutral', 'score': 0.5358430743217468}]\n",
      "[{'label': 'negative', 'score': 0.9554567933082581}]\n",
      "[{'label': 'neutral', 'score': 0.833412766456604}]\n",
      "[{'label': 'positive', 'score': 0.9195703864097595}]\n",
      "[{'label': 'negative', 'score': 0.9545827507972717}]\n",
      "[{'label': 'negative', 'score': 0.958970308303833}]\n",
      "[{'label': 'positive', 'score': 0.9136922955513}]\n",
      "[{'label': 'negative', 'score': 0.960765540599823}]\n",
      "[{'label': 'positive', 'score': 0.917576253414154}]\n",
      "[{'label': 'positive', 'score': 0.9204767346382141}]\n",
      "[{'label': 'negative', 'score': 0.9565163254737854}]\n",
      "[{'label': 'positive', 'score': 0.9162711501121521}]\n",
      "[{'label': 'negative', 'score': 0.9578288793563843}]\n",
      "[{'label': 'negative', 'score': 0.9578750729560852}]\n",
      "[{'label': 'negative', 'score': 0.9577854871749878}]\n",
      "[{'label': 'positive', 'score': 0.9163026809692383}]\n",
      "[{'label': 'negative', 'score': 0.9579418897628784}]\n",
      "[{'label': 'positive', 'score': 0.9388992786407471}]\n",
      "[{'label': 'positive', 'score': 0.9199442267417908}]\n",
      "[{'label': 'neutral', 'score': 0.7872638702392578}]\n",
      "[{'label': 'negative', 'score': 0.9556972980499268}]\n",
      "[{'label': 'positive', 'score': 0.9188185930252075}]\n",
      "[{'label': 'negative', 'score': 0.9595156908035278}]\n",
      "[{'label': 'positive', 'score': 0.920962393283844}]\n",
      "[{'label': 'negative', 'score': 0.9677582383155823}]\n",
      "[{'label': 'neutral', 'score': 0.9412909746170044}]\n",
      "[{'label': 'neutral', 'score': 0.8873680830001831}]\n",
      "[{'label': 'neutral', 'score': 0.8077324628829956}]\n",
      "[{'label': 'neutral', 'score': 0.9421049356460571}]\n",
      "[{'label': 'neutral', 'score': 0.857955276966095}]\n",
      "[{'label': 'neutral', 'score': 0.9190795421600342}]\n",
      "[{'label': 'neutral', 'score': 0.9520958662033081}]\n",
      "[{'label': 'neutral', 'score': 0.9254692792892456}]\n",
      "[{'label': 'positive', 'score': 0.9204767346382141}]\n",
      "[{'label': 'negative', 'score': 0.95720374584198}]\n",
      "[{'label': 'negative', 'score': 0.9563900232315063}]\n",
      "[{'label': 'negative', 'score': 0.9568149447441101}]\n",
      "[{'label': 'positive', 'score': 0.9199867248535156}]\n",
      "[{'label': 'negative', 'score': 0.9570870995521545}]\n",
      "[{'label': 'positive', 'score': 0.9197484254837036}]\n",
      "[{'label': 'negative', 'score': 0.9579303860664368}]\n",
      "[{'label': 'neutral', 'score': 0.8267903923988342}]\n",
      "[{'label': 'positive', 'score': 0.9135397672653198}]\n",
      "[{'label': 'positive', 'score': 0.9170380234718323}]\n",
      "[{'label': 'negative', 'score': 0.9573835134506226}]\n",
      "[{'label': 'positive', 'score': 0.9157660007476807}]\n",
      "[{'label': 'negative', 'score': 0.9565670490264893}]\n",
      "[{'label': 'negative', 'score': 0.9557896256446838}]\n",
      "[{'label': 'negative', 'score': 0.5132265090942383}]\n",
      "[{'label': 'neutral', 'score': 0.9350346326828003}]\n",
      "[{'label': 'negative', 'score': 0.9569910168647766}]\n",
      "[{'label': 'negative', 'score': 0.9564450979232788}]\n",
      "[{'label': 'negative', 'score': 0.9610376954078674}]\n",
      "[{'label': 'neutral', 'score': 0.8887486457824707}]\n",
      "[{'label': 'negative', 'score': 0.9595462083816528}]\n",
      "[{'label': 'neutral', 'score': 0.9081482291221619}]\n",
      "[{'label': 'neutral', 'score': 0.9224169254302979}]\n",
      "[{'label': 'neutral', 'score': 0.8051806092262268}]\n",
      "[{'label': 'positive', 'score': 0.9282048940658569}]\n",
      "[{'label': 'negative', 'score': 0.9595156908035278}]\n",
      "[{'label': 'negative', 'score': 0.9578750729560852}]\n",
      "[{'label': 'negative', 'score': 0.9566515684127808}]\n",
      "[{'label': 'positive', 'score': 0.9283918738365173}]\n",
      "[{'label': 'negative', 'score': 0.5882787704467773}]\n",
      "[{'label': 'negative', 'score': 0.9565428495407104}]\n",
      "[{'label': 'positive', 'score': 0.9223898649215698}]\n",
      "[{'label': 'positive', 'score': 0.9125920534133911}]\n",
      "[{'label': 'positive', 'score': 0.9170884490013123}]\n"
     ]
    },
    {
     "ename": "ValueError",
     "evalue": "Cannot set a DataFrame with multiple columns to the single column scores",
     "output_type": "error",
     "traceback": [
      "\u001B[0;31m---------------------------------------------------------------------------\u001B[0m",
      "\u001B[0;31mValueError\u001B[0m                                Traceback (most recent call last)",
      "\u001B[0;32m/var/folders/h2/gwq8h86j5r33dmnb_gwx3c8w0000gn/T/ipykernel_3971/790382143.py\u001B[0m in \u001B[0;36m?\u001B[0;34m()\u001B[0m\n\u001B[1;32m      5\u001B[0m     \u001B[0mprint\u001B[0m\u001B[0;34m(\u001B[0m\u001B[0mresult\u001B[0m\u001B[0;34m)\u001B[0m\u001B[0;34m\u001B[0m\u001B[0;34m\u001B[0m\u001B[0m\n\u001B[1;32m      6\u001B[0m \u001B[0;34m\u001B[0m\u001B[0m\n\u001B[1;32m      7\u001B[0m \u001B[0;31m#combine the scores with the titles\u001B[0m\u001B[0;34m\u001B[0m\u001B[0;34m\u001B[0m\u001B[0m\n\u001B[1;32m      8\u001B[0m \u001B[0mscores\u001B[0m \u001B[0;34m=\u001B[0m \u001B[0mpd\u001B[0m\u001B[0;34m.\u001B[0m\u001B[0mDataFrame\u001B[0m\u001B[0;34m(\u001B[0m\u001B[0mscores\u001B[0m\u001B[0;34m)\u001B[0m\u001B[0;34m\u001B[0m\u001B[0;34m\u001B[0m\u001B[0m\n\u001B[0;32m----> 9\u001B[0;31m \u001B[0mnews_titles\u001B[0m\u001B[0;34m[\u001B[0m\u001B[0;34m'scores'\u001B[0m\u001B[0;34m]\u001B[0m \u001B[0;34m=\u001B[0m \u001B[0mscores\u001B[0m\u001B[0;34m\u001B[0m\u001B[0;34m\u001B[0m\u001B[0m\n\u001B[0m\u001B[1;32m     10\u001B[0m \u001B[0mnews_titles\u001B[0m\u001B[0;34m.\u001B[0m\u001B[0mto_csv\u001B[0m\u001B[0;34m(\u001B[0m\u001B[0;34m\"news_titles_with_scores.csv\"\u001B[0m\u001B[0;34m)\u001B[0m\u001B[0;34m\u001B[0m\u001B[0;34m\u001B[0m\u001B[0m\n\u001B[1;32m     11\u001B[0m \u001B[0;34m\u001B[0m\u001B[0m\n",
      "\u001B[0;32m~/.virtualenvs/Scalable_Machine_learning_Project/lib/python3.12/site-packages/pandas/core/frame.py\u001B[0m in \u001B[0;36m?\u001B[0;34m(self, key, value)\u001B[0m\n\u001B[1;32m   4077\u001B[0m             \u001B[0mself\u001B[0m\u001B[0;34m.\u001B[0m\u001B[0m_setitem_frame\u001B[0m\u001B[0;34m(\u001B[0m\u001B[0mkey\u001B[0m\u001B[0;34m,\u001B[0m \u001B[0mvalue\u001B[0m\u001B[0;34m)\u001B[0m\u001B[0;34m\u001B[0m\u001B[0;34m\u001B[0m\u001B[0m\n\u001B[1;32m   4078\u001B[0m         \u001B[0;32melif\u001B[0m \u001B[0misinstance\u001B[0m\u001B[0;34m(\u001B[0m\u001B[0mkey\u001B[0m\u001B[0;34m,\u001B[0m \u001B[0;34m(\u001B[0m\u001B[0mSeries\u001B[0m\u001B[0;34m,\u001B[0m \u001B[0mnp\u001B[0m\u001B[0;34m.\u001B[0m\u001B[0mndarray\u001B[0m\u001B[0;34m,\u001B[0m \u001B[0mlist\u001B[0m\u001B[0;34m,\u001B[0m \u001B[0mIndex\u001B[0m\u001B[0;34m)\u001B[0m\u001B[0;34m)\u001B[0m\u001B[0;34m:\u001B[0m\u001B[0;34m\u001B[0m\u001B[0;34m\u001B[0m\u001B[0m\n\u001B[1;32m   4079\u001B[0m             \u001B[0mself\u001B[0m\u001B[0;34m.\u001B[0m\u001B[0m_setitem_array\u001B[0m\u001B[0;34m(\u001B[0m\u001B[0mkey\u001B[0m\u001B[0;34m,\u001B[0m \u001B[0mvalue\u001B[0m\u001B[0;34m)\u001B[0m\u001B[0;34m\u001B[0m\u001B[0;34m\u001B[0m\u001B[0m\n\u001B[1;32m   4080\u001B[0m         \u001B[0;32melif\u001B[0m \u001B[0misinstance\u001B[0m\u001B[0;34m(\u001B[0m\u001B[0mvalue\u001B[0m\u001B[0;34m,\u001B[0m \u001B[0mDataFrame\u001B[0m\u001B[0;34m)\u001B[0m\u001B[0;34m:\u001B[0m\u001B[0;34m\u001B[0m\u001B[0;34m\u001B[0m\u001B[0m\n\u001B[0;32m-> 4081\u001B[0;31m             \u001B[0mself\u001B[0m\u001B[0;34m.\u001B[0m\u001B[0m_set_item_frame_value\u001B[0m\u001B[0;34m(\u001B[0m\u001B[0mkey\u001B[0m\u001B[0;34m,\u001B[0m \u001B[0mvalue\u001B[0m\u001B[0;34m)\u001B[0m\u001B[0;34m\u001B[0m\u001B[0;34m\u001B[0m\u001B[0m\n\u001B[0m\u001B[1;32m   4082\u001B[0m         elif (\n\u001B[1;32m   4083\u001B[0m             \u001B[0mis_list_like\u001B[0m\u001B[0;34m(\u001B[0m\u001B[0mvalue\u001B[0m\u001B[0;34m)\u001B[0m\u001B[0;34m\u001B[0m\u001B[0;34m\u001B[0m\u001B[0m\n\u001B[1;32m   4084\u001B[0m             \u001B[0;32mand\u001B[0m \u001B[0;32mnot\u001B[0m \u001B[0mself\u001B[0m\u001B[0;34m.\u001B[0m\u001B[0mcolumns\u001B[0m\u001B[0;34m.\u001B[0m\u001B[0mis_unique\u001B[0m\u001B[0;34m\u001B[0m\u001B[0;34m\u001B[0m\u001B[0m\n",
      "\u001B[0;32m~/.virtualenvs/Scalable_Machine_learning_Project/lib/python3.12/site-packages/pandas/core/frame.py\u001B[0m in \u001B[0;36m?\u001B[0;34m(self, key, value)\u001B[0m\n\u001B[1;32m   4235\u001B[0m \u001B[0;34m\u001B[0m\u001B[0m\n\u001B[1;32m   4236\u001B[0m             \u001B[0;32mreturn\u001B[0m \u001B[0mself\u001B[0m\u001B[0;34m.\u001B[0m\u001B[0misetitem\u001B[0m\u001B[0;34m(\u001B[0m\u001B[0mlocs\u001B[0m\u001B[0;34m,\u001B[0m \u001B[0mvalue\u001B[0m\u001B[0;34m)\u001B[0m\u001B[0;34m\u001B[0m\u001B[0;34m\u001B[0m\u001B[0m\n\u001B[1;32m   4237\u001B[0m \u001B[0;34m\u001B[0m\u001B[0m\n\u001B[1;32m   4238\u001B[0m         \u001B[0;32mif\u001B[0m \u001B[0mlen\u001B[0m\u001B[0;34m(\u001B[0m\u001B[0mvalue\u001B[0m\u001B[0;34m.\u001B[0m\u001B[0mcolumns\u001B[0m\u001B[0;34m)\u001B[0m \u001B[0;34m!=\u001B[0m \u001B[0;36m1\u001B[0m\u001B[0;34m:\u001B[0m\u001B[0;34m\u001B[0m\u001B[0;34m\u001B[0m\u001B[0m\n\u001B[0;32m-> 4239\u001B[0;31m             raise ValueError(\n\u001B[0m\u001B[1;32m   4240\u001B[0m                 \u001B[0;34m\"Cannot set a DataFrame with multiple columns to the single \"\u001B[0m\u001B[0;34m\u001B[0m\u001B[0;34m\u001B[0m\u001B[0m\n\u001B[1;32m   4241\u001B[0m                 \u001B[0;34mf\"\u001B[0m\u001B[0;34mcolumn \u001B[0m\u001B[0;34m{\u001B[0m\u001B[0mkey\u001B[0m\u001B[0;34m}\u001B[0m\u001B[0;34m\"\u001B[0m\u001B[0;34m\u001B[0m\u001B[0;34m\u001B[0m\u001B[0m\n\u001B[1;32m   4242\u001B[0m             \u001B[0;34m)\u001B[0m\u001B[0;34m\u001B[0m\u001B[0;34m\u001B[0m\u001B[0m\n",
      "\u001B[0;31mValueError\u001B[0m: Cannot set a DataFrame with multiple columns to the single column scores"
     ]
    }
   ],
   "execution_count": 60
  },
  {
   "metadata": {},
   "cell_type": "code",
   "source": "print(classifier(\"The stock market is going up as fed raises interest rates\"))",
   "id": "42f89acf5f9d09f2",
   "outputs": [],
   "execution_count": null
  },
  {
   "metadata": {},
   "cell_type": "code",
   "source": [
    "#Sectors relevant to OMX30 \n",
    "#Sectors: Industrials, Financials, Telecom, Consumer Discretionary \n",
    "#Crawl news data for these sectors in regards to Sweden and OMX30\n",
    "\n",
    "gn = GoogleNews()\n",
    "search_1 = gn.search('Industrials Sweden', when='3650d')\n",
    "search_2 = gn.search('Financials Sweden', when='3650d')\n",
    "search_3 = gn.search('Telecom Sweden', when='3650d')\n",
    "search_4 = gn.search('Consumer Discretionary Sweden', when='3650d')\n",
    "\n",
    "#Combine the data into one dataframe\n",
    "news_data = search_1['entries'] + search_2['entries'] + search_3['entries'] + search_4['entries']\n",
    "news_data = pd.DataFrame(news_data)\n",
    "\n",
    "#peforme sentiment analysis on the news data\n",
    "news_titles = news_data['title']\n",
    "scores = []\n",
    "for title in news_titles:\n",
    "    result = classifier(title)\n",
    "    scores.append(result)\n",
    "    \n",
    "#combine the scores with the titles putting the scores first\n",
    "scores = pd.DataFrame(scores)\n",
    "news_data['scores'] = scores\n",
    "news_data.to_csv(\"news_data_with_scores_sectors.csv\")\n"
   ],
   "id": "ece0afd52b45c86",
   "outputs": [],
   "execution_count": null
  },
  {
   "metadata": {
    "ExecuteTime": {
     "end_time": "2025-01-05T22:03:16.558759Z",
     "start_time": "2025-01-05T22:03:13.177282Z"
    }
   },
   "cell_type": "code",
   "source": [
    "#Test of predicting stock price\n",
    "import ModelForecaster as mf\n",
    "\n",
    "prediction = mf.forecast_stock_price(\"^OMX\")\n",
    "print(prediction)"
   ],
   "id": "5d03c9dcf07dfc50",
   "outputs": [
    {
     "name": "stderr",
     "output_type": "stream",
     "text": [
      "[*********************100%***********************]  1 of 1 completed\n",
      "huggingface/tokenizers: The current process just got forked, after parallelism has already been used. Disabling parallelism to avoid deadlocks...\n",
      "To disable this warning, you can either:\n",
      "\t- Avoid using `tokenizers` before the fork if possible\n",
      "\t- Explicitly set the environment variable TOKENIZERS_PARALLELISM=(true | false)\n",
      "Device set to use mps:0\n"
     ]
    },
    {
     "ename": "ValueError",
     "evalue": "Exception encountered when calling Sequential.call().\n\n\u001B[1mInvalid input shape for input Tensor(\"data:0\", shape=(30, 7), dtype=float32). Expected shape (None, 30, 7), but input has incompatible shape (30, 7)\u001B[0m\n\nArguments received by Sequential.call():\n  • inputs=tf.Tensor(shape=(30, 7), dtype=float32)\n  • training=False\n  • mask=None",
     "output_type": "error",
     "traceback": [
      "\u001B[0;31m---------------------------------------------------------------------------\u001B[0m",
      "\u001B[0;31mValueError\u001B[0m                                Traceback (most recent call last)",
      "Cell \u001B[0;32mIn[64], line 4\u001B[0m\n\u001B[1;32m      1\u001B[0m \u001B[38;5;66;03m#Test of predicting stock price\u001B[39;00m\n\u001B[1;32m      2\u001B[0m \u001B[38;5;28;01mimport\u001B[39;00m \u001B[38;5;21;01mModelForecaster\u001B[39;00m \u001B[38;5;28;01mas\u001B[39;00m \u001B[38;5;21;01mmf\u001B[39;00m\n\u001B[0;32m----> 4\u001B[0m prediction \u001B[38;5;241m=\u001B[39m \u001B[43mmf\u001B[49m\u001B[38;5;241;43m.\u001B[39;49m\u001B[43mforecast_stock_price\u001B[49m\u001B[43m(\u001B[49m\u001B[38;5;124;43m\"\u001B[39;49m\u001B[38;5;124;43m^OMX\u001B[39;49m\u001B[38;5;124;43m\"\u001B[39;49m\u001B[43m)\u001B[49m\n\u001B[1;32m      5\u001B[0m \u001B[38;5;28mprint\u001B[39m(prediction)\n",
      "File \u001B[0;32m~/Desktop/Proggramering/Scalable-Machine-Learning/Scalable_Machine_learning_Project/ModelForecaster.py:32\u001B[0m, in \u001B[0;36mforecast_stock_price\u001B[0;34m(ticker)\u001B[0m\n\u001B[1;32m     29\u001B[0m scaler \u001B[38;5;241m=\u001B[39m MinMaxScaler()\n\u001B[1;32m     30\u001B[0m data \u001B[38;5;241m=\u001B[39m scaler\u001B[38;5;241m.\u001B[39mfit_transform(data)\n\u001B[0;32m---> 32\u001B[0m prediction \u001B[38;5;241m=\u001B[39m \u001B[43mmodel\u001B[49m\u001B[38;5;241;43m.\u001B[39;49m\u001B[43mpredict\u001B[49m\u001B[43m(\u001B[49m\u001B[43mdata\u001B[49m\u001B[43m)\u001B[49m\n\u001B[1;32m     34\u001B[0m \u001B[38;5;28;01mreturn\u001B[39;00m prediction\n",
      "File \u001B[0;32m~/.virtualenvs/Scalable_Machine_learning_Project/lib/python3.12/site-packages/keras/src/utils/traceback_utils.py:122\u001B[0m, in \u001B[0;36mfilter_traceback.<locals>.error_handler\u001B[0;34m(*args, **kwargs)\u001B[0m\n\u001B[1;32m    119\u001B[0m     filtered_tb \u001B[38;5;241m=\u001B[39m _process_traceback_frames(e\u001B[38;5;241m.\u001B[39m__traceback__)\n\u001B[1;32m    120\u001B[0m     \u001B[38;5;66;03m# To get the full stack trace, call:\u001B[39;00m\n\u001B[1;32m    121\u001B[0m     \u001B[38;5;66;03m# `keras.config.disable_traceback_filtering()`\u001B[39;00m\n\u001B[0;32m--> 122\u001B[0m     \u001B[38;5;28;01mraise\u001B[39;00m e\u001B[38;5;241m.\u001B[39mwith_traceback(filtered_tb) \u001B[38;5;28;01mfrom\u001B[39;00m \u001B[38;5;28;01mNone\u001B[39;00m\n\u001B[1;32m    123\u001B[0m \u001B[38;5;28;01mfinally\u001B[39;00m:\n\u001B[1;32m    124\u001B[0m     \u001B[38;5;28;01mdel\u001B[39;00m filtered_tb\n",
      "File \u001B[0;32m~/.virtualenvs/Scalable_Machine_learning_Project/lib/python3.12/site-packages/keras/src/models/functional.py:273\u001B[0m, in \u001B[0;36mFunctional._adjust_input_rank\u001B[0;34m(self, flat_inputs)\u001B[0m\n\u001B[1;32m    271\u001B[0m             adjusted\u001B[38;5;241m.\u001B[39mappend(ops\u001B[38;5;241m.\u001B[39mexpand_dims(x, axis\u001B[38;5;241m=\u001B[39m\u001B[38;5;241m-\u001B[39m\u001B[38;5;241m1\u001B[39m))\n\u001B[1;32m    272\u001B[0m             \u001B[38;5;28;01mcontinue\u001B[39;00m\n\u001B[0;32m--> 273\u001B[0m     \u001B[38;5;28;01mraise\u001B[39;00m \u001B[38;5;167;01mValueError\u001B[39;00m(\n\u001B[1;32m    274\u001B[0m         \u001B[38;5;124mf\u001B[39m\u001B[38;5;124m\"\u001B[39m\u001B[38;5;124mInvalid input shape for input \u001B[39m\u001B[38;5;132;01m{\u001B[39;00mx\u001B[38;5;132;01m}\u001B[39;00m\u001B[38;5;124m. Expected shape \u001B[39m\u001B[38;5;124m\"\u001B[39m\n\u001B[1;32m    275\u001B[0m         \u001B[38;5;124mf\u001B[39m\u001B[38;5;124m\"\u001B[39m\u001B[38;5;132;01m{\u001B[39;00mref_shape\u001B[38;5;132;01m}\u001B[39;00m\u001B[38;5;124m, but input has incompatible shape \u001B[39m\u001B[38;5;132;01m{\u001B[39;00mx\u001B[38;5;241m.\u001B[39mshape\u001B[38;5;132;01m}\u001B[39;00m\u001B[38;5;124m\"\u001B[39m\n\u001B[1;32m    276\u001B[0m     )\n\u001B[1;32m    277\u001B[0m \u001B[38;5;66;03m# Add back metadata.\u001B[39;00m\n\u001B[1;32m    278\u001B[0m \u001B[38;5;28;01mfor\u001B[39;00m i \u001B[38;5;129;01min\u001B[39;00m \u001B[38;5;28mrange\u001B[39m(\u001B[38;5;28mlen\u001B[39m(flat_inputs)):\n",
      "\u001B[0;31mValueError\u001B[0m: Exception encountered when calling Sequential.call().\n\n\u001B[1mInvalid input shape for input Tensor(\"data:0\", shape=(30, 7), dtype=float32). Expected shape (None, 30, 7), but input has incompatible shape (30, 7)\u001B[0m\n\nArguments received by Sequential.call():\n  • inputs=tf.Tensor(shape=(30, 7), dtype=float32)\n  • training=False\n  • mask=None"
     ]
    }
   ],
   "execution_count": 64
  },
  {
   "metadata": {},
   "cell_type": "code",
   "outputs": [],
   "execution_count": null,
   "source": "",
   "id": "99229d93184f5bb8"
  }
 ],
 "metadata": {
  "kernelspec": {
   "display_name": "Python 3",
   "language": "python",
   "name": "python3"
  },
  "language_info": {
   "codemirror_mode": {
    "name": "ipython",
    "version": 2
   },
   "file_extension": ".py",
   "mimetype": "text/x-python",
   "name": "python",
   "nbconvert_exporter": "python",
   "pygments_lexer": "ipython2",
   "version": "2.7.6"
  }
 },
 "nbformat": 4,
 "nbformat_minor": 5
}
